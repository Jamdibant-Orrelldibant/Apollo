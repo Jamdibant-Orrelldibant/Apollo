{
  "cells": [
    {
      "cell_type": "markdown",
      "metadata": {
        "id": "J-_VkjEtMvc5"
      },
      "source": [
        "[![ko-fi](https://ko-fi.com/img/githubbutton_sm.svg)](https://ko-fi.com/Q5Q811R5YI)  \n",
        "# Apollo-Colab-Inference [![Open In Github](https://img.shields.io/badge/github-code-green)](https://github.com/jarredou/Apollo-Colab-Inference/)  \n",
        "\n",
        "\n",
        "*Original work [Apollo: Band-sequence Modeling for High-Quality Music Restoration in Compressed Audio](https://github.com/JusperLee/Apollo)*  \n",
        "\n",
        "The model was trained to restore/enhance lossy mp3 audio with bitrate <= 128 kbps.  \n",
        "<br>\n",
        "___  \n",
        "*changelog:*\n",
        "\n",
        "<font size=2>**v0.5**  \n",
        "<font size=2>- added: lew's universal model  \n",
        "\n",
        "<font size=2>**v0.4**  \n",
        "<font size=2>- added: config loader  \n",
        "<font size=2>- added: lew's separated vocals enhancer v2 beta\n",
        "\n",
        "<font size=2>**v0.3**  \n",
        "<font size=2>- lew's separated vocals enhancer model added\n",
        "\n",
        "<font size=2>**v0.2**  \n",
        "<font size=2>- added overlap feature  \n",
        "<font size=2>- new inference.py created for easier local CLI use  \n",
        "\n",
        "<font size=2>**v0.1**  \n",
        "<font size=2>- added chunking for long audio inputs  \n",
        "<font size=2>- ~~added \"dual mono\" processing for stereo audio input (processing each channel independently)~~"
      ]
    },
    {
      "cell_type": "code",
      "metadata": {
        "colab": {
          "base_uri": "https://localhost:8080/",
          "height": 90
        },
        "id": "29e23abe",
        "outputId": "0593ea11-c33f-4c80-96e7-9395f6efa4d9"
      },
      "source": [
        "from google.colab import files\n",
        "uploaded = files.upload()\n",
        "\n",
        "for fn in uploaded.keys():\n",
        "  print('User uploaded file \"{name}\" with length {length} bytes'.format(\n",
        "      name=fn, length=len(uploaded[fn])))\n",
        "  input_file_path = fn"
      ],
      "execution_count": 5,
      "outputs": [
        {
          "output_type": "display_data",
          "data": {
            "text/plain": [
              "<IPython.core.display.HTML object>"
            ],
            "text/html": [
              "\n",
              "     <input type=\"file\" id=\"files-6c9f2f2d-26ff-486f-b807-8f3b6f39fecd\" name=\"files[]\" multiple disabled\n",
              "        style=\"border:none\" />\n",
              "     <output id=\"result-6c9f2f2d-26ff-486f-b807-8f3b6f39fecd\">\n",
              "      Upload widget is only available when the cell has been executed in the\n",
              "      current browser session. Please rerun this cell to enable.\n",
              "      </output>\n",
              "      <script>// Copyright 2017 Google LLC\n",
              "//\n",
              "// Licensed under the Apache License, Version 2.0 (the \"License\");\n",
              "// you may not use this file except in compliance with the License.\n",
              "// You may obtain a copy of the License at\n",
              "//\n",
              "//      http://www.apache.org/licenses/LICENSE-2.0\n",
              "//\n",
              "// Unless required by applicable law or agreed to in writing, software\n",
              "// distributed under the License is distributed on an \"AS IS\" BASIS,\n",
              "// WITHOUT WARRANTIES OR CONDITIONS OF ANY KIND, either express or implied.\n",
              "// See the License for the specific language governing permissions and\n",
              "// limitations under the License.\n",
              "\n",
              "/**\n",
              " * @fileoverview Helpers for google.colab Python module.\n",
              " */\n",
              "(function(scope) {\n",
              "function span(text, styleAttributes = {}) {\n",
              "  const element = document.createElement('span');\n",
              "  element.textContent = text;\n",
              "  for (const key of Object.keys(styleAttributes)) {\n",
              "    element.style[key] = styleAttributes[key];\n",
              "  }\n",
              "  return element;\n",
              "}\n",
              "\n",
              "// Max number of bytes which will be uploaded at a time.\n",
              "const MAX_PAYLOAD_SIZE = 100 * 1024;\n",
              "\n",
              "function _uploadFiles(inputId, outputId) {\n",
              "  const steps = uploadFilesStep(inputId, outputId);\n",
              "  const outputElement = document.getElementById(outputId);\n",
              "  // Cache steps on the outputElement to make it available for the next call\n",
              "  // to uploadFilesContinue from Python.\n",
              "  outputElement.steps = steps;\n",
              "\n",
              "  return _uploadFilesContinue(outputId);\n",
              "}\n",
              "\n",
              "// This is roughly an async generator (not supported in the browser yet),\n",
              "// where there are multiple asynchronous steps and the Python side is going\n",
              "// to poll for completion of each step.\n",
              "// This uses a Promise to block the python side on completion of each step,\n",
              "// then passes the result of the previous step as the input to the next step.\n",
              "function _uploadFilesContinue(outputId) {\n",
              "  const outputElement = document.getElementById(outputId);\n",
              "  const steps = outputElement.steps;\n",
              "\n",
              "  const next = steps.next(outputElement.lastPromiseValue);\n",
              "  return Promise.resolve(next.value.promise).then((value) => {\n",
              "    // Cache the last promise value to make it available to the next\n",
              "    // step of the generator.\n",
              "    outputElement.lastPromiseValue = value;\n",
              "    return next.value.response;\n",
              "  });\n",
              "}\n",
              "\n",
              "/**\n",
              " * Generator function which is called between each async step of the upload\n",
              " * process.\n",
              " * @param {string} inputId Element ID of the input file picker element.\n",
              " * @param {string} outputId Element ID of the output display.\n",
              " * @return {!Iterable<!Object>} Iterable of next steps.\n",
              " */\n",
              "function* uploadFilesStep(inputId, outputId) {\n",
              "  const inputElement = document.getElementById(inputId);\n",
              "  inputElement.disabled = false;\n",
              "\n",
              "  const outputElement = document.getElementById(outputId);\n",
              "  outputElement.innerHTML = '';\n",
              "\n",
              "  const pickedPromise = new Promise((resolve) => {\n",
              "    inputElement.addEventListener('change', (e) => {\n",
              "      resolve(e.target.files);\n",
              "    });\n",
              "  });\n",
              "\n",
              "  const cancel = document.createElement('button');\n",
              "  inputElement.parentElement.appendChild(cancel);\n",
              "  cancel.textContent = 'Cancel upload';\n",
              "  const cancelPromise = new Promise((resolve) => {\n",
              "    cancel.onclick = () => {\n",
              "      resolve(null);\n",
              "    };\n",
              "  });\n",
              "\n",
              "  // Wait for the user to pick the files.\n",
              "  const files = yield {\n",
              "    promise: Promise.race([pickedPromise, cancelPromise]),\n",
              "    response: {\n",
              "      action: 'starting',\n",
              "    }\n",
              "  };\n",
              "\n",
              "  cancel.remove();\n",
              "\n",
              "  // Disable the input element since further picks are not allowed.\n",
              "  inputElement.disabled = true;\n",
              "\n",
              "  if (!files) {\n",
              "    return {\n",
              "      response: {\n",
              "        action: 'complete',\n",
              "      }\n",
              "    };\n",
              "  }\n",
              "\n",
              "  for (const file of files) {\n",
              "    const li = document.createElement('li');\n",
              "    li.append(span(file.name, {fontWeight: 'bold'}));\n",
              "    li.append(span(\n",
              "        `(${file.type || 'n/a'}) - ${file.size} bytes, ` +\n",
              "        `last modified: ${\n",
              "            file.lastModifiedDate ? file.lastModifiedDate.toLocaleDateString() :\n",
              "                                    'n/a'} - `));\n",
              "    const percent = span('0% done');\n",
              "    li.appendChild(percent);\n",
              "\n",
              "    outputElement.appendChild(li);\n",
              "\n",
              "    const fileDataPromise = new Promise((resolve) => {\n",
              "      const reader = new FileReader();\n",
              "      reader.onload = (e) => {\n",
              "        resolve(e.target.result);\n",
              "      };\n",
              "      reader.readAsArrayBuffer(file);\n",
              "    });\n",
              "    // Wait for the data to be ready.\n",
              "    let fileData = yield {\n",
              "      promise: fileDataPromise,\n",
              "      response: {\n",
              "        action: 'continue',\n",
              "      }\n",
              "    };\n",
              "\n",
              "    // Use a chunked sending to avoid message size limits. See b/62115660.\n",
              "    let position = 0;\n",
              "    do {\n",
              "      const length = Math.min(fileData.byteLength - position, MAX_PAYLOAD_SIZE);\n",
              "      const chunk = new Uint8Array(fileData, position, length);\n",
              "      position += length;\n",
              "\n",
              "      const base64 = btoa(String.fromCharCode.apply(null, chunk));\n",
              "      yield {\n",
              "        response: {\n",
              "          action: 'append',\n",
              "          file: file.name,\n",
              "          data: base64,\n",
              "        },\n",
              "      };\n",
              "\n",
              "      let percentDone = fileData.byteLength === 0 ?\n",
              "          100 :\n",
              "          Math.round((position / fileData.byteLength) * 100);\n",
              "      percent.textContent = `${percentDone}% done`;\n",
              "\n",
              "    } while (position < fileData.byteLength);\n",
              "  }\n",
              "\n",
              "  // All done.\n",
              "  yield {\n",
              "    response: {\n",
              "      action: 'complete',\n",
              "    }\n",
              "  };\n",
              "}\n",
              "\n",
              "scope.google = scope.google || {};\n",
              "scope.google.colab = scope.google.colab || {};\n",
              "scope.google.colab._files = {\n",
              "  _uploadFiles,\n",
              "  _uploadFilesContinue,\n",
              "};\n",
              "})(self);\n",
              "</script> "
            ]
          },
          "metadata": {}
        },
        {
          "output_type": "stream",
          "name": "stdout",
          "text": [
            "Saving Output 1-2.mp3 to Output 1-2.mp3\n",
            "User uploaded file \"Output 1-2.mp3\" with length 564880 bytes\n"
          ]
        }
      ]
    },
    {
      "cell_type": "code",
      "execution_count": 6,
      "metadata": {
        "id": "xFqIYcKxVXyd",
        "colab": {
          "base_uri": "https://localhost:8080/"
        },
        "outputId": "433b9550-4790-4428-a545-4a018c57a125"
      },
      "outputs": [
        {
          "output_type": "stream",
          "name": "stdout",
          "text": [
            "/content/Apollo\n",
            "_target_: look2hear.models.apollo.Apollo\n",
            "feature_dim: 384\n",
            "layer: 6\n",
            "sr: 44100\n",
            "win: 20\n",
            "\n",
            "ckpt_path = /content/Apollo/model/apollo_model_uni.ckpt\n",
            "chunk_size = 19, overlap = 2\n",
            "[5, 5, 5, 5, 5, 5, 5, 5, 5, 5, 5, 5, 5, 5, 5, 5, 5, 5, 5, 5, 5, 5, 5, 5, 5, 5, 5, 5, 5, 5, 5, 5, 5, 5, 5, 5, 5, 5, 5, 5, 5, 5, 5, 5, 5, 5, 5, 5, 5, 5, 5, 5, 5, 5, 5, 5, 5, 5, 5, 5, 5, 5, 5, 5, 5, 5, 5, 5, 5, 5, 5, 5, 5, 5, 5, 5, 5, 5, 5, np.int64(47)] 80\n",
            "INPUT audio.shape = (2, 2648690) | samplerate = 44100\n",
            "N = 2 | C = 837900 | step = 418950 | fade_size = 132300\n",
            "Success! Output file saved as /content/output.wav\n"
          ]
        }
      ],
      "source": [
        "%cd /content/Apollo\n",
        "#@markdown #Inference\n",
        "#@markdown For the universal model set *chunk_size* above to 19, for all other models set it to 25\n",
        "output_file_path = '/content/output.wav' #@param {type:\"string\"}\n",
        "model = 'Lew Universal Lossy Enhancer' #@param ['MP3 Enhancer', 'Lew Vocal Enhancer', 'Lew Vocal Enhancer v2 (beta)', 'Lew Universal Lossy Enhancer']\n",
        "chunk_size = 19 #@param {type:\"slider\", min:3, max:25, step:1}\n",
        "overlap = 2 #@param {type:\"slider\", min:2, max:10, step:1}\n",
        "\n",
        "if model == 'MP3 Enhancer':\n",
        "    ckpt = '/content/Apollo/model/pytorch_model.bin'\n",
        "    config = 'configs/apollo.yaml'\n",
        "if model == 'Lew Vocal Enhancer':\n",
        "    ckpt = '/content/Apollo/model/apollo_model.ckpt'\n",
        "    config = 'configs/apollo.yaml'\n",
        "if model == 'Lew Vocal Enhancer v2 (beta)':\n",
        "    ckpt = '/content/Apollo/model/apollo_model_v2.ckpt'\n",
        "    config = 'configs/config_apollo_vocal.yaml'\n",
        "if model == 'Lew Universal Lossy Enhancer':\n",
        "    ckpt = '/content/Apollo/model/apollo_model_uni.ckpt'\n",
        "    config = 'configs/config_apollo_uni.yaml'\n",
        "\n",
        "!python inference.py \\\n",
        "    --in_wav '{input_file_path}' \\\n",
        "    --out_wav '{output_file_path}' \\\n",
        "    --chunk_size {chunk_size} \\\n",
        "    --overlap {overlap} \\\n",
        "    --ckpt '{ckpt}' \\\n",
        "    --config '{config}'"
      ]
    },
    {
      "cell_type": "code",
      "metadata": {
        "colab": {
          "base_uri": "https://localhost:8080/",
          "height": 17
        },
        "id": "1264f196",
        "outputId": "e34088ab-eb79-4028-a6a1-2114d099f7ed"
      },
      "source": [
        "from google.colab import files\n",
        "files.download(output_file_path)"
      ],
      "execution_count": 7,
      "outputs": [
        {
          "output_type": "display_data",
          "data": {
            "text/plain": [
              "<IPython.core.display.Javascript object>"
            ],
            "application/javascript": [
              "\n",
              "    async function download(id, filename, size) {\n",
              "      if (!google.colab.kernel.accessAllowed) {\n",
              "        return;\n",
              "      }\n",
              "      const div = document.createElement('div');\n",
              "      const label = document.createElement('label');\n",
              "      label.textContent = `Downloading \"${filename}\": `;\n",
              "      div.appendChild(label);\n",
              "      const progress = document.createElement('progress');\n",
              "      progress.max = size;\n",
              "      div.appendChild(progress);\n",
              "      document.body.appendChild(div);\n",
              "\n",
              "      const buffers = [];\n",
              "      let downloaded = 0;\n",
              "\n",
              "      const channel = await google.colab.kernel.comms.open(id);\n",
              "      // Send a message to notify the kernel that we're ready.\n",
              "      channel.send({})\n",
              "\n",
              "      for await (const message of channel.messages) {\n",
              "        // Send a message to notify the kernel that we're ready.\n",
              "        channel.send({})\n",
              "        if (message.buffers) {\n",
              "          for (const buffer of message.buffers) {\n",
              "            buffers.push(buffer);\n",
              "            downloaded += buffer.byteLength;\n",
              "            progress.value = downloaded;\n",
              "          }\n",
              "        }\n",
              "      }\n",
              "      const blob = new Blob(buffers, {type: 'application/binary'});\n",
              "      const a = document.createElement('a');\n",
              "      a.href = window.URL.createObjectURL(blob);\n",
              "      a.download = filename;\n",
              "      div.appendChild(a);\n",
              "      a.click();\n",
              "      div.remove();\n",
              "    }\n",
              "  "
            ]
          },
          "metadata": {}
        },
        {
          "output_type": "display_data",
          "data": {
            "text/plain": [
              "<IPython.core.display.Javascript object>"
            ],
            "application/javascript": [
              "download(\"download_f7b064a2-0032-4db9-8020-575f1f0a21a2\", \"output.wav\", 10594804)"
            ]
          },
          "metadata": {}
        }
      ]
    },
    {
      "cell_type": "code",
      "execution_count": 3,
      "metadata": {
        "id": "8NuwnC--VPO4"
      },
      "outputs": [],
      "source": [
        "%%capture --no-stderr\n",
        "#@markdown #Install\n",
        "%cd /content/\n",
        "!git clone https://github.com/JusperLee/Apollo.git && cd Apollo\n",
        "\n",
        "!mkdir /content/Apollo/model\n",
        "%cd /content/Apollo/model\n",
        "!wget 'https://huggingface.co/JusperLee/Apollo/resolve/main/pytorch_model.bin'\n",
        "!wget 'https://huggingface.co/jarredou/lew_apollo_vocal_enhancer/resolve/main/apollo_model.ckpt'\n",
        "!wget 'https://huggingface.co/jarredou/lew_apollo_vocal_enhancer/resolve/main/apollo_model_v2.ckpt'\n",
        "!wget 'https://github.com/deton24/Lew-s-vocal-enhancer-for-Apollo-by-JusperLee/releases/download/uni/apollo_model_uni.ckpt'\n",
        "\n",
        "%cd /content/Apollo/configs\n",
        "!wget 'https://huggingface.co/jarredou/lew_apollo_vocal_enhancer/resolve/main/config_apollo_vocal.yaml'\n",
        "!wget 'https://github.com/deton24/Lew-s-vocal-enhancer-for-Apollo-by-JusperLee/releases/download/uni/config_apollo_uni.yaml'\n",
        "\n",
        "!rm -rf '/content/Apollo/inference.py'\n",
        "%cd /content/Apollo\n",
        "!wget 'https://raw.githubusercontent.com/jarredou/Apollo-Colab-Inference/main/inference.py'\n",
        "\n",
        "!pip install omegaconf ml_collections"
      ]
    },
    {
      "cell_type": "markdown",
      "metadata": {
        "id": "9f7801f0"
      },
      "source": [
        "# Task\n",
        "Enable the user to upload multiple audio files, process them sequentially using the existing inference script, and then download each processed file individually."
      ]
    },
    {
      "cell_type": "markdown",
      "metadata": {
        "id": "187f20d9"
      },
      "source": [
        "## Modify upload cell\n",
        "\n",
        "### Subtask:\n",
        "Update the upload cell to handle multiple file uploads and store the file paths in a list.\n"
      ]
    },
    {
      "cell_type": "markdown",
      "metadata": {
        "id": "4d35f6a1"
      },
      "source": [
        "**Reasoning**:\n",
        "Modify the upload code to allow multiple files, iterate through them, print their info, and store their names in a list.\n",
        "\n"
      ]
    },
    {
      "cell_type": "code",
      "metadata": {
        "colab": {
          "base_uri": "https://localhost:8080/",
          "height": 1000
        },
        "collapsed": true,
        "id": "c272042c",
        "outputId": "bd15779e-da0d-4654-bb3b-9521b591427e"
      },
      "source": [
        "from google.colab import files\n",
        "\n",
        "uploaded = files.upload()\n",
        "\n",
        "input_file_paths = []\n",
        "for fn in uploaded.keys():\n",
        "  print('User uploaded file \"{name}\" with length {length} bytes'.format(\n",
        "      name=fn, length=len(uploaded[fn])))\n",
        "  input_file_paths.append(fn)"
      ],
      "execution_count": 8,
      "outputs": [
        {
          "output_type": "display_data",
          "data": {
            "text/plain": [
              "<IPython.core.display.HTML object>"
            ],
            "text/html": [
              "\n",
              "     <input type=\"file\" id=\"files-fd1f7516-7a85-4a75-8182-5cd0ad9a4bad\" name=\"files[]\" multiple disabled\n",
              "        style=\"border:none\" />\n",
              "     <output id=\"result-fd1f7516-7a85-4a75-8182-5cd0ad9a4bad\">\n",
              "      Upload widget is only available when the cell has been executed in the\n",
              "      current browser session. Please rerun this cell to enable.\n",
              "      </output>\n",
              "      <script>// Copyright 2017 Google LLC\n",
              "//\n",
              "// Licensed under the Apache License, Version 2.0 (the \"License\");\n",
              "// you may not use this file except in compliance with the License.\n",
              "// You may obtain a copy of the License at\n",
              "//\n",
              "//      http://www.apache.org/licenses/LICENSE-2.0\n",
              "//\n",
              "// Unless required by applicable law or agreed to in writing, software\n",
              "// distributed under the License is distributed on an \"AS IS\" BASIS,\n",
              "// WITHOUT WARRANTIES OR CONDITIONS OF ANY KIND, either express or implied.\n",
              "// See the License for the specific language governing permissions and\n",
              "// limitations under the License.\n",
              "\n",
              "/**\n",
              " * @fileoverview Helpers for google.colab Python module.\n",
              " */\n",
              "(function(scope) {\n",
              "function span(text, styleAttributes = {}) {\n",
              "  const element = document.createElement('span');\n",
              "  element.textContent = text;\n",
              "  for (const key of Object.keys(styleAttributes)) {\n",
              "    element.style[key] = styleAttributes[key];\n",
              "  }\n",
              "  return element;\n",
              "}\n",
              "\n",
              "// Max number of bytes which will be uploaded at a time.\n",
              "const MAX_PAYLOAD_SIZE = 100 * 1024;\n",
              "\n",
              "function _uploadFiles(inputId, outputId) {\n",
              "  const steps = uploadFilesStep(inputId, outputId);\n",
              "  const outputElement = document.getElementById(outputId);\n",
              "  // Cache steps on the outputElement to make it available for the next call\n",
              "  // to uploadFilesContinue from Python.\n",
              "  outputElement.steps = steps;\n",
              "\n",
              "  return _uploadFilesContinue(outputId);\n",
              "}\n",
              "\n",
              "// This is roughly an async generator (not supported in the browser yet),\n",
              "// where there are multiple asynchronous steps and the Python side is going\n",
              "// to poll for completion of each step.\n",
              "// This uses a Promise to block the python side on completion of each step,\n",
              "// then passes the result of the previous step as the input to the next step.\n",
              "function _uploadFilesContinue(outputId) {\n",
              "  const outputElement = document.getElementById(outputId);\n",
              "  const steps = outputElement.steps;\n",
              "\n",
              "  const next = steps.next(outputElement.lastPromiseValue);\n",
              "  return Promise.resolve(next.value.promise).then((value) => {\n",
              "    // Cache the last promise value to make it available to the next\n",
              "    // step of the generator.\n",
              "    outputElement.lastPromiseValue = value;\n",
              "    return next.value.response;\n",
              "  });\n",
              "}\n",
              "\n",
              "/**\n",
              " * Generator function which is called between each async step of the upload\n",
              " * process.\n",
              " * @param {string} inputId Element ID of the input file picker element.\n",
              " * @param {string} outputId Element ID of the output display.\n",
              " * @return {!Iterable<!Object>} Iterable of next steps.\n",
              " */\n",
              "function* uploadFilesStep(inputId, outputId) {\n",
              "  const inputElement = document.getElementById(inputId);\n",
              "  inputElement.disabled = false;\n",
              "\n",
              "  const outputElement = document.getElementById(outputId);\n",
              "  outputElement.innerHTML = '';\n",
              "\n",
              "  const pickedPromise = new Promise((resolve) => {\n",
              "    inputElement.addEventListener('change', (e) => {\n",
              "      resolve(e.target.files);\n",
              "    });\n",
              "  });\n",
              "\n",
              "  const cancel = document.createElement('button');\n",
              "  inputElement.parentElement.appendChild(cancel);\n",
              "  cancel.textContent = 'Cancel upload';\n",
              "  const cancelPromise = new Promise((resolve) => {\n",
              "    cancel.onclick = () => {\n",
              "      resolve(null);\n",
              "    };\n",
              "  });\n",
              "\n",
              "  // Wait for the user to pick the files.\n",
              "  const files = yield {\n",
              "    promise: Promise.race([pickedPromise, cancelPromise]),\n",
              "    response: {\n",
              "      action: 'starting',\n",
              "    }\n",
              "  };\n",
              "\n",
              "  cancel.remove();\n",
              "\n",
              "  // Disable the input element since further picks are not allowed.\n",
              "  inputElement.disabled = true;\n",
              "\n",
              "  if (!files) {\n",
              "    return {\n",
              "      response: {\n",
              "        action: 'complete',\n",
              "      }\n",
              "    };\n",
              "  }\n",
              "\n",
              "  for (const file of files) {\n",
              "    const li = document.createElement('li');\n",
              "    li.append(span(file.name, {fontWeight: 'bold'}));\n",
              "    li.append(span(\n",
              "        `(${file.type || 'n/a'}) - ${file.size} bytes, ` +\n",
              "        `last modified: ${\n",
              "            file.lastModifiedDate ? file.lastModifiedDate.toLocaleDateString() :\n",
              "                                    'n/a'} - `));\n",
              "    const percent = span('0% done');\n",
              "    li.appendChild(percent);\n",
              "\n",
              "    outputElement.appendChild(li);\n",
              "\n",
              "    const fileDataPromise = new Promise((resolve) => {\n",
              "      const reader = new FileReader();\n",
              "      reader.onload = (e) => {\n",
              "        resolve(e.target.result);\n",
              "      };\n",
              "      reader.readAsArrayBuffer(file);\n",
              "    });\n",
              "    // Wait for the data to be ready.\n",
              "    let fileData = yield {\n",
              "      promise: fileDataPromise,\n",
              "      response: {\n",
              "        action: 'continue',\n",
              "      }\n",
              "    };\n",
              "\n",
              "    // Use a chunked sending to avoid message size limits. See b/62115660.\n",
              "    let position = 0;\n",
              "    do {\n",
              "      const length = Math.min(fileData.byteLength - position, MAX_PAYLOAD_SIZE);\n",
              "      const chunk = new Uint8Array(fileData, position, length);\n",
              "      position += length;\n",
              "\n",
              "      const base64 = btoa(String.fromCharCode.apply(null, chunk));\n",
              "      yield {\n",
              "        response: {\n",
              "          action: 'append',\n",
              "          file: file.name,\n",
              "          data: base64,\n",
              "        },\n",
              "      };\n",
              "\n",
              "      let percentDone = fileData.byteLength === 0 ?\n",
              "          100 :\n",
              "          Math.round((position / fileData.byteLength) * 100);\n",
              "      percent.textContent = `${percentDone}% done`;\n",
              "\n",
              "    } while (position < fileData.byteLength);\n",
              "  }\n",
              "\n",
              "  // All done.\n",
              "  yield {\n",
              "    response: {\n",
              "      action: 'complete',\n",
              "    }\n",
              "  };\n",
              "}\n",
              "\n",
              "scope.google = scope.google || {};\n",
              "scope.google.colab = scope.google.colab || {};\n",
              "scope.google.colab._files = {\n",
              "  _uploadFiles,\n",
              "  _uploadFilesContinue,\n",
              "};\n",
              "})(self);\n",
              "</script> "
            ]
          },
          "metadata": {}
        },
        {
          "output_type": "stream",
          "name": "stdout",
          "text": [
            "Saving 04b22d081b54213ce1075780b52472ba.mp3 to 04b22d081b54213ce1075780b52472ba.mp3\n",
            "Saving 2d1329fbe132a8574876e56367abebd9.mp3 to 2d1329fbe132a8574876e56367abebd9.mp3\n",
            "Saving 1b0e82a58bad4bf508b5da3961dbd061.mp3 to 1b0e82a58bad4bf508b5da3961dbd061.mp3\n",
            "Saving b8905cc8f92259532106dacce6443a18.mp3 to b8905cc8f92259532106dacce6443a18.mp3\n",
            "Saving 08f4cfc6d1d611660971286ffce3792a.mp3 to 08f4cfc6d1d611660971286ffce3792a.mp3\n",
            "Saving 739a5ef1799e210c21be74fa115874ae.mp3 to 739a5ef1799e210c21be74fa115874ae.mp3\n",
            "Saving 8d9c75a7e7029be67cf3d0d3fea73863.mp3 to 8d9c75a7e7029be67cf3d0d3fea73863.mp3\n",
            "Saving 51443b412dde9075b5c0a269c7d1f62e.mp3 to 51443b412dde9075b5c0a269c7d1f62e.mp3\n",
            "Saving 4b4b9dc89ed92ed370dcd35c4818b4d2.mp3 to 4b4b9dc89ed92ed370dcd35c4818b4d2.mp3\n",
            "Saving 5f58c72905924f9ab8b4dda0190c90f7.mp3 to 5f58c72905924f9ab8b4dda0190c90f7.mp3\n",
            "Saving fd9af390e66556c4d8fa6913d6d9ea03.mp3 to fd9af390e66556c4d8fa6913d6d9ea03.mp3\n",
            "Saving 5fb0876b81fa5bd41c8a90ac8eac236a.mp3 to 5fb0876b81fa5bd41c8a90ac8eac236a.mp3\n",
            "Saving 32a0236862e3a152f7dbeaa7644de81a.mp3 to 32a0236862e3a152f7dbeaa7644de81a.mp3\n",
            "Saving 2bd5b5cbd681af6ec512be47babece81.mp3 to 2bd5b5cbd681af6ec512be47babece81.mp3\n",
            "Saving 1687c003d510db7a771078a5212152c8.mp3 to 1687c003d510db7a771078a5212152c8.mp3\n",
            "Saving a05d96297e106f047f0dd6d74a4d6eaa.mp3 to a05d96297e106f047f0dd6d74a4d6eaa.mp3\n",
            "Saving de9b56b4ae9244ac3cc2b2127953a846.mp3 to de9b56b4ae9244ac3cc2b2127953a846.mp3\n",
            "Saving 6cd90a0bde529a58cad60b5c527e9cf4.mp3 to 6cd90a0bde529a58cad60b5c527e9cf4.mp3\n",
            "Saving bc019e61fe6e8056edaedae589f4daeb.mp3 to bc019e61fe6e8056edaedae589f4daeb.mp3\n",
            "Saving e04db957ff9ac492bee72ea3ce1dde66.mp3 to e04db957ff9ac492bee72ea3ce1dde66.mp3\n",
            "Saving dff4e34acefa86466266fc52325ebf06.mp3 to dff4e34acefa86466266fc52325ebf06.mp3\n",
            "Saving c8436fbf44173388d980cd8c7d01556f.mp3 to c8436fbf44173388d980cd8c7d01556f.mp3\n",
            "User uploaded file \"04b22d081b54213ce1075780b52472ba.mp3\" with length 91584 bytes\n",
            "User uploaded file \"2d1329fbe132a8574876e56367abebd9.mp3\" with length 39168 bytes\n",
            "User uploaded file \"1b0e82a58bad4bf508b5da3961dbd061.mp3\" with length 139968 bytes\n",
            "User uploaded file \"b8905cc8f92259532106dacce6443a18.mp3\" with length 73152 bytes\n",
            "User uploaded file \"08f4cfc6d1d611660971286ffce3792a.mp3\" with length 201024 bytes\n",
            "User uploaded file \"739a5ef1799e210c21be74fa115874ae.mp3\" with length 155520 bytes\n",
            "User uploaded file \"8d9c75a7e7029be67cf3d0d3fea73863.mp3\" with length 200448 bytes\n",
            "User uploaded file \"51443b412dde9075b5c0a269c7d1f62e.mp3\" with length 110592 bytes\n",
            "User uploaded file \"4b4b9dc89ed92ed370dcd35c4818b4d2.mp3\" with length 134208 bytes\n",
            "User uploaded file \"5f58c72905924f9ab8b4dda0190c90f7.mp3\" with length 80640 bytes\n",
            "User uploaded file \"fd9af390e66556c4d8fa6913d6d9ea03.mp3\" with length 73152 bytes\n",
            "User uploaded file \"5fb0876b81fa5bd41c8a90ac8eac236a.mp3\" with length 177984 bytes\n",
            "User uploaded file \"32a0236862e3a152f7dbeaa7644de81a.mp3\" with length 81216 bytes\n",
            "User uploaded file \"2bd5b5cbd681af6ec512be47babece81.mp3\" with length 67968 bytes\n",
            "User uploaded file \"1687c003d510db7a771078a5212152c8.mp3\" with length 80064 bytes\n",
            "User uploaded file \"a05d96297e106f047f0dd6d74a4d6eaa.mp3\" with length 78912 bytes\n",
            "User uploaded file \"de9b56b4ae9244ac3cc2b2127953a846.mp3\" with length 89280 bytes\n",
            "User uploaded file \"6cd90a0bde529a58cad60b5c527e9cf4.mp3\" with length 42048 bytes\n",
            "User uploaded file \"bc019e61fe6e8056edaedae589f4daeb.mp3\" with length 76608 bytes\n",
            "User uploaded file \"e04db957ff9ac492bee72ea3ce1dde66.mp3\" with length 91008 bytes\n",
            "User uploaded file \"dff4e34acefa86466266fc52325ebf06.mp3\" with length 57024 bytes\n",
            "User uploaded file \"c8436fbf44173388d980cd8c7d01556f.mp3\" with length 160704 bytes\n"
          ]
        }
      ]
    },
    {
      "cell_type": "markdown",
      "metadata": {
        "id": "c519337d"
      },
      "source": [
        "## Modify inference cell\n",
        "\n",
        "### Subtask:\n",
        "Change the inference cell to iterate through the list of file paths, processing each file sequentially. This will involve modifying the script execution within the loop to use the current input file and a unique output file name for each.\n"
      ]
    },
    {
      "cell_type": "markdown",
      "metadata": {
        "id": "9deaae51"
      },
      "source": [
        "**Reasoning**:\n",
        "Modify the inference cell to iterate through the list of input file paths and process each file sequentially using the inference script.\n",
        "\n"
      ]
    },
    {
      "cell_type": "code",
      "metadata": {
        "colab": {
          "base_uri": "https://localhost:8080/"
        },
        "collapsed": true,
        "id": "1cb1c626",
        "outputId": "2bee4d2b-49ad-48a2-9715-6b6c05f48375"
      },
      "source": [
        "%cd /content/Apollo\n",
        "#@markdown #Inference\n",
        "#@markdown For the universal model set *chunk_size* above to 19, for all other models set it to 25\n",
        "model = 'Lew Universal Lossy Enhancer' #@param ['MP3 Enhancer', 'Lew Vocal Enhancer', 'Lew Vocal Enhancer v2 (beta)', 'Lew Universal Lossy Enhancer']\n",
        "chunk_size = 19 #@param {type:\"slider\", min:3, max:25, step:1}\n",
        "overlap = 2 #@param {type:\"slider\", min:2, max:10, step:1}\n",
        "\n",
        "if model == 'MP3 Enhancer':\n",
        "    ckpt = '/content/Apollo/model/pytorch_model.bin'\n",
        "    config = 'configs/apollo.yaml'\n",
        "if model == 'Lew Vocal Enhancer':\n",
        "    ckpt = '/content/Apollo/model/apollo_model.ckpt'\n",
        "    config = 'configs/apollo.yaml'\n",
        "if model == 'Lew Vocal Enhancer v2 (beta)':\n",
        "    ckpt = '/content/Apollo/model/apollo_model_v2.ckpt'\n",
        "    config = 'configs/config_apollo_vocal.yaml'\n",
        "if model == 'Lew Universal Lossy Enhancer':\n",
        "    ckpt = '/content/Apollo/model/apollo_model_uni.ckpt'\n",
        "    config = 'configs/config_apollo_uni.yaml'\n",
        "\n",
        "processed_output_paths = []\n",
        "for input_file_path in input_file_paths:\n",
        "    output_file_name = f\"processed_{input_file_path.split('/')[-1].split('.')[0]}.wav\"\n",
        "    output_file_path = f'/content/{output_file_name}'\n",
        "    processed_output_paths.append(output_file_path)\n",
        "\n",
        "    print(f\"Processing {input_file_path}...\")\n",
        "    !python inference.py \\\n",
        "        --in_wav '{input_file_path}' \\\n",
        "        --out_wav '{output_file_path}' \\\n",
        "        --chunk_size {chunk_size} \\\n",
        "        --overlap {overlap} \\\n",
        "        --ckpt '{ckpt}' \\\n",
        "        --config '{config}'\n",
        "    print(f\"Finished processing {input_file_path}. Output saved to {output_file_path}\")\n"
      ],
      "execution_count": 9,
      "outputs": [
        {
          "output_type": "stream",
          "name": "stdout",
          "text": [
            "/content/Apollo\n",
            "Processing 04b22d081b54213ce1075780b52472ba.mp3...\n",
            "_target_: look2hear.models.apollo.Apollo\n",
            "feature_dim: 384\n",
            "layer: 6\n",
            "sr: 44100\n",
            "win: 20\n",
            "\n",
            "ckpt_path = /content/Apollo/model/apollo_model_uni.ckpt\n",
            "chunk_size = 19, overlap = 2\n",
            "[5, 5, 5, 5, 5, 5, 5, 5, 5, 5, 5, 5, 5, 5, 5, 5, 5, 5, 5, 5, 5, 5, 5, 5, 5, 5, 5, 5, 5, 5, 5, 5, 5, 5, 5, 5, 5, 5, 5, 5, 5, 5, 5, 5, 5, 5, 5, 5, 5, 5, 5, 5, 5, 5, 5, 5, 5, 5, 5, 5, 5, 5, 5, 5, 5, 5, 5, 5, 5, 5, 5, 5, 5, 5, 5, 5, 5, 5, 5, np.int64(47)] 80\n",
            "INPUT audio.shape = (252429,) | samplerate = 44100\n",
            "N = 2 | C = 837900 | step = 418950 | fade_size = 132300\n",
            "Success! Output file saved as /content/processed_04b22d081b54213ce1075780b52472ba.wav\n",
            "Finished processing 04b22d081b54213ce1075780b52472ba.mp3. Output saved to /content/processed_04b22d081b54213ce1075780b52472ba.wav\n",
            "Processing 2d1329fbe132a8574876e56367abebd9.mp3...\n",
            "_target_: look2hear.models.apollo.Apollo\n",
            "feature_dim: 384\n",
            "layer: 6\n",
            "sr: 44100\n",
            "win: 20\n",
            "\n",
            "ckpt_path = /content/Apollo/model/apollo_model_uni.ckpt\n",
            "chunk_size = 19, overlap = 2\n",
            "[5, 5, 5, 5, 5, 5, 5, 5, 5, 5, 5, 5, 5, 5, 5, 5, 5, 5, 5, 5, 5, 5, 5, 5, 5, 5, 5, 5, 5, 5, 5, 5, 5, 5, 5, 5, 5, 5, 5, 5, 5, 5, 5, 5, 5, 5, 5, 5, 5, 5, 5, 5, 5, 5, 5, 5, 5, 5, 5, 5, 5, 5, 5, 5, 5, 5, 5, 5, 5, 5, 5, 5, 5, 5, 5, 5, 5, 5, 5, np.int64(47)] 80\n",
            "INPUT audio.shape = (107957,) | samplerate = 44100\n",
            "N = 2 | C = 837900 | step = 418950 | fade_size = 132300\n",
            "Success! Output file saved as /content/processed_2d1329fbe132a8574876e56367abebd9.wav\n",
            "Finished processing 2d1329fbe132a8574876e56367abebd9.mp3. Output saved to /content/processed_2d1329fbe132a8574876e56367abebd9.wav\n",
            "Processing 1b0e82a58bad4bf508b5da3961dbd061.mp3...\n",
            "_target_: look2hear.models.apollo.Apollo\n",
            "feature_dim: 384\n",
            "layer: 6\n",
            "sr: 44100\n",
            "win: 20\n",
            "\n",
            "ckpt_path = /content/Apollo/model/apollo_model_uni.ckpt\n",
            "chunk_size = 19, overlap = 2\n",
            "[5, 5, 5, 5, 5, 5, 5, 5, 5, 5, 5, 5, 5, 5, 5, 5, 5, 5, 5, 5, 5, 5, 5, 5, 5, 5, 5, 5, 5, 5, 5, 5, 5, 5, 5, 5, 5, 5, 5, 5, 5, 5, 5, 5, 5, 5, 5, 5, 5, 5, 5, 5, 5, 5, 5, 5, 5, 5, 5, 5, 5, 5, 5, 5, 5, 5, 5, 5, 5, 5, 5, 5, 5, 5, 5, 5, 5, 5, 5, np.int64(47)] 80\n",
            "INPUT audio.shape = (385787,) | samplerate = 44100\n",
            "N = 2 | C = 837900 | step = 418950 | fade_size = 132300\n",
            "Success! Output file saved as /content/processed_1b0e82a58bad4bf508b5da3961dbd061.wav\n",
            "Finished processing 1b0e82a58bad4bf508b5da3961dbd061.mp3. Output saved to /content/processed_1b0e82a58bad4bf508b5da3961dbd061.wav\n",
            "Processing b8905cc8f92259532106dacce6443a18.mp3...\n",
            "_target_: look2hear.models.apollo.Apollo\n",
            "feature_dim: 384\n",
            "layer: 6\n",
            "sr: 44100\n",
            "win: 20\n",
            "\n",
            "ckpt_path = /content/Apollo/model/apollo_model_uni.ckpt\n",
            "chunk_size = 19, overlap = 2\n",
            "[5, 5, 5, 5, 5, 5, 5, 5, 5, 5, 5, 5, 5, 5, 5, 5, 5, 5, 5, 5, 5, 5, 5, 5, 5, 5, 5, 5, 5, 5, 5, 5, 5, 5, 5, 5, 5, 5, 5, 5, 5, 5, 5, 5, 5, 5, 5, 5, 5, 5, 5, 5, 5, 5, 5, 5, 5, 5, 5, 5, 5, 5, 5, 5, 5, 5, 5, 5, 5, 5, 5, 5, 5, 5, 5, 5, 5, 5, 5, np.int64(47)] 80\n",
            "INPUT audio.shape = (201626,) | samplerate = 44100\n",
            "N = 2 | C = 837900 | step = 418950 | fade_size = 132300\n",
            "Success! Output file saved as /content/processed_b8905cc8f92259532106dacce6443a18.wav\n",
            "Finished processing b8905cc8f92259532106dacce6443a18.mp3. Output saved to /content/processed_b8905cc8f92259532106dacce6443a18.wav\n",
            "Processing 08f4cfc6d1d611660971286ffce3792a.mp3...\n",
            "_target_: look2hear.models.apollo.Apollo\n",
            "feature_dim: 384\n",
            "layer: 6\n",
            "sr: 44100\n",
            "win: 20\n",
            "\n",
            "ckpt_path = /content/Apollo/model/apollo_model_uni.ckpt\n",
            "chunk_size = 19, overlap = 2\n",
            "[5, 5, 5, 5, 5, 5, 5, 5, 5, 5, 5, 5, 5, 5, 5, 5, 5, 5, 5, 5, 5, 5, 5, 5, 5, 5, 5, 5, 5, 5, 5, 5, 5, 5, 5, 5, 5, 5, 5, 5, 5, 5, 5, 5, 5, 5, 5, 5, 5, 5, 5, 5, 5, 5, 5, 5, 5, 5, 5, 5, 5, 5, 5, 5, 5, 5, 5, 5, 5, 5, 5, 5, 5, 5, 5, 5, 5, 5, 5, np.int64(47)] 80\n",
            "INPUT audio.shape = (554073,) | samplerate = 44100\n",
            "N = 2 | C = 837900 | step = 418950 | fade_size = 132300\n",
            "Success! Output file saved as /content/processed_08f4cfc6d1d611660971286ffce3792a.wav\n",
            "Finished processing 08f4cfc6d1d611660971286ffce3792a.mp3. Output saved to /content/processed_08f4cfc6d1d611660971286ffce3792a.wav\n",
            "Processing 739a5ef1799e210c21be74fa115874ae.mp3...\n",
            "_target_: look2hear.models.apollo.Apollo\n",
            "feature_dim: 384\n",
            "layer: 6\n",
            "sr: 44100\n",
            "win: 20\n",
            "\n",
            "ckpt_path = /content/Apollo/model/apollo_model_uni.ckpt\n",
            "chunk_size = 19, overlap = 2\n",
            "[5, 5, 5, 5, 5, 5, 5, 5, 5, 5, 5, 5, 5, 5, 5, 5, 5, 5, 5, 5, 5, 5, 5, 5, 5, 5, 5, 5, 5, 5, 5, 5, 5, 5, 5, 5, 5, 5, 5, 5, 5, 5, 5, 5, 5, 5, 5, 5, 5, 5, 5, 5, 5, 5, 5, 5, 5, 5, 5, 5, 5, 5, 5, 5, 5, 5, 5, 5, 5, 5, 5, 5, 5, 5, 5, 5, 5, 5, 5, np.int64(47)] 80\n",
            "INPUT audio.shape = (428652,) | samplerate = 44100\n",
            "N = 2 | C = 837900 | step = 418950 | fade_size = 132300\n",
            "Success! Output file saved as /content/processed_739a5ef1799e210c21be74fa115874ae.wav\n",
            "Finished processing 739a5ef1799e210c21be74fa115874ae.mp3. Output saved to /content/processed_739a5ef1799e210c21be74fa115874ae.wav\n",
            "Processing 8d9c75a7e7029be67cf3d0d3fea73863.mp3...\n",
            "_target_: look2hear.models.apollo.Apollo\n",
            "feature_dim: 384\n",
            "layer: 6\n",
            "sr: 44100\n",
            "win: 20\n",
            "\n",
            "ckpt_path = /content/Apollo/model/apollo_model_uni.ckpt\n",
            "chunk_size = 19, overlap = 2\n",
            "[5, 5, 5, 5, 5, 5, 5, 5, 5, 5, 5, 5, 5, 5, 5, 5, 5, 5, 5, 5, 5, 5, 5, 5, 5, 5, 5, 5, 5, 5, 5, 5, 5, 5, 5, 5, 5, 5, 5, 5, 5, 5, 5, 5, 5, 5, 5, 5, 5, 5, 5, 5, 5, 5, 5, 5, 5, 5, 5, 5, 5, 5, 5, 5, 5, 5, 5, 5, 5, 5, 5, 5, 5, 5, 5, 5, 5, 5, 5, np.int64(47)] 80\n",
            "INPUT audio.shape = (552485,) | samplerate = 44100\n",
            "N = 2 | C = 837900 | step = 418950 | fade_size = 132300\n",
            "Success! Output file saved as /content/processed_8d9c75a7e7029be67cf3d0d3fea73863.wav\n",
            "Finished processing 8d9c75a7e7029be67cf3d0d3fea73863.mp3. Output saved to /content/processed_8d9c75a7e7029be67cf3d0d3fea73863.wav\n",
            "Processing 51443b412dde9075b5c0a269c7d1f62e.mp3...\n",
            "_target_: look2hear.models.apollo.Apollo\n",
            "feature_dim: 384\n",
            "layer: 6\n",
            "sr: 44100\n",
            "win: 20\n",
            "\n",
            "ckpt_path = /content/Apollo/model/apollo_model_uni.ckpt\n",
            "chunk_size = 19, overlap = 2\n",
            "[5, 5, 5, 5, 5, 5, 5, 5, 5, 5, 5, 5, 5, 5, 5, 5, 5, 5, 5, 5, 5, 5, 5, 5, 5, 5, 5, 5, 5, 5, 5, 5, 5, 5, 5, 5, 5, 5, 5, 5, 5, 5, 5, 5, 5, 5, 5, 5, 5, 5, 5, 5, 5, 5, 5, 5, 5, 5, 5, 5, 5, 5, 5, 5, 5, 5, 5, 5, 5, 5, 5, 5, 5, 5, 5, 5, 5, 5, 5, np.int64(47)] 80\n",
            "INPUT audio.shape = (304820,) | samplerate = 44100\n",
            "N = 2 | C = 837900 | step = 418950 | fade_size = 132300\n",
            "Success! Output file saved as /content/processed_51443b412dde9075b5c0a269c7d1f62e.wav\n",
            "Finished processing 51443b412dde9075b5c0a269c7d1f62e.mp3. Output saved to /content/processed_51443b412dde9075b5c0a269c7d1f62e.wav\n",
            "Processing 4b4b9dc89ed92ed370dcd35c4818b4d2.mp3...\n",
            "_target_: look2hear.models.apollo.Apollo\n",
            "feature_dim: 384\n",
            "layer: 6\n",
            "sr: 44100\n",
            "win: 20\n",
            "\n",
            "ckpt_path = /content/Apollo/model/apollo_model_uni.ckpt\n",
            "chunk_size = 19, overlap = 2\n",
            "[5, 5, 5, 5, 5, 5, 5, 5, 5, 5, 5, 5, 5, 5, 5, 5, 5, 5, 5, 5, 5, 5, 5, 5, 5, 5, 5, 5, 5, 5, 5, 5, 5, 5, 5, 5, 5, 5, 5, 5, 5, 5, 5, 5, 5, 5, 5, 5, 5, 5, 5, 5, 5, 5, 5, 5, 5, 5, 5, 5, 5, 5, 5, 5, 5, 5, 5, 5, 5, 5, 5, 5, 5, 5, 5, 5, 5, 5, 5, np.int64(47)] 80\n",
            "INPUT audio.shape = (369911,) | samplerate = 44100\n",
            "N = 2 | C = 837900 | step = 418950 | fade_size = 132300\n",
            "Success! Output file saved as /content/processed_4b4b9dc89ed92ed370dcd35c4818b4d2.wav\n",
            "Finished processing 4b4b9dc89ed92ed370dcd35c4818b4d2.mp3. Output saved to /content/processed_4b4b9dc89ed92ed370dcd35c4818b4d2.wav\n",
            "Processing 5f58c72905924f9ab8b4dda0190c90f7.mp3...\n",
            "_target_: look2hear.models.apollo.Apollo\n",
            "feature_dim: 384\n",
            "layer: 6\n",
            "sr: 44100\n",
            "win: 20\n",
            "\n",
            "ckpt_path = /content/Apollo/model/apollo_model_uni.ckpt\n",
            "chunk_size = 19, overlap = 2\n",
            "[5, 5, 5, 5, 5, 5, 5, 5, 5, 5, 5, 5, 5, 5, 5, 5, 5, 5, 5, 5, 5, 5, 5, 5, 5, 5, 5, 5, 5, 5, 5, 5, 5, 5, 5, 5, 5, 5, 5, 5, 5, 5, 5, 5, 5, 5, 5, 5, 5, 5, 5, 5, 5, 5, 5, 5, 5, 5, 5, 5, 5, 5, 5, 5, 5, 5, 5, 5, 5, 5, 5, 5, 5, 5, 5, 5, 5, 5, 5, np.int64(47)] 80\n",
            "INPUT audio.shape = (222264,) | samplerate = 44100\n",
            "N = 2 | C = 837900 | step = 418950 | fade_size = 132300\n",
            "Success! Output file saved as /content/processed_5f58c72905924f9ab8b4dda0190c90f7.wav\n",
            "Finished processing 5f58c72905924f9ab8b4dda0190c90f7.mp3. Output saved to /content/processed_5f58c72905924f9ab8b4dda0190c90f7.wav\n",
            "Processing fd9af390e66556c4d8fa6913d6d9ea03.mp3...\n",
            "_target_: look2hear.models.apollo.Apollo\n",
            "feature_dim: 384\n",
            "layer: 6\n",
            "sr: 44100\n",
            "win: 20\n",
            "\n",
            "ckpt_path = /content/Apollo/model/apollo_model_uni.ckpt\n",
            "chunk_size = 19, overlap = 2\n",
            "[5, 5, 5, 5, 5, 5, 5, 5, 5, 5, 5, 5, 5, 5, 5, 5, 5, 5, 5, 5, 5, 5, 5, 5, 5, 5, 5, 5, 5, 5, 5, 5, 5, 5, 5, 5, 5, 5, 5, 5, 5, 5, 5, 5, 5, 5, 5, 5, 5, 5, 5, 5, 5, 5, 5, 5, 5, 5, 5, 5, 5, 5, 5, 5, 5, 5, 5, 5, 5, 5, 5, 5, 5, 5, 5, 5, 5, 5, 5, np.int64(47)] 80\n",
            "INPUT audio.shape = (201626,) | samplerate = 44100\n",
            "N = 2 | C = 837900 | step = 418950 | fade_size = 132300\n",
            "Success! Output file saved as /content/processed_fd9af390e66556c4d8fa6913d6d9ea03.wav\n",
            "Finished processing fd9af390e66556c4d8fa6913d6d9ea03.mp3. Output saved to /content/processed_fd9af390e66556c4d8fa6913d6d9ea03.wav\n",
            "Processing 5fb0876b81fa5bd41c8a90ac8eac236a.mp3...\n",
            "_target_: look2hear.models.apollo.Apollo\n",
            "feature_dim: 384\n",
            "layer: 6\n",
            "sr: 44100\n",
            "win: 20\n",
            "\n",
            "ckpt_path = /content/Apollo/model/apollo_model_uni.ckpt\n",
            "chunk_size = 19, overlap = 2\n",
            "[5, 5, 5, 5, 5, 5, 5, 5, 5, 5, 5, 5, 5, 5, 5, 5, 5, 5, 5, 5, 5, 5, 5, 5, 5, 5, 5, 5, 5, 5, 5, 5, 5, 5, 5, 5, 5, 5, 5, 5, 5, 5, 5, 5, 5, 5, 5, 5, 5, 5, 5, 5, 5, 5, 5, 5, 5, 5, 5, 5, 5, 5, 5, 5, 5, 5, 5, 5, 5, 5, 5, 5, 5, 5, 5, 5, 5, 5, 5, np.int64(47)] 80\n",
            "INPUT audio.shape = (490569,) | samplerate = 44100\n",
            "N = 2 | C = 837900 | step = 418950 | fade_size = 132300\n",
            "Success! Output file saved as /content/processed_5fb0876b81fa5bd41c8a90ac8eac236a.wav\n",
            "Finished processing 5fb0876b81fa5bd41c8a90ac8eac236a.mp3. Output saved to /content/processed_5fb0876b81fa5bd41c8a90ac8eac236a.wav\n",
            "Processing 32a0236862e3a152f7dbeaa7644de81a.mp3...\n",
            "_target_: look2hear.models.apollo.Apollo\n",
            "feature_dim: 384\n",
            "layer: 6\n",
            "sr: 44100\n",
            "win: 20\n",
            "\n",
            "ckpt_path = /content/Apollo/model/apollo_model_uni.ckpt\n",
            "chunk_size = 19, overlap = 2\n",
            "[5, 5, 5, 5, 5, 5, 5, 5, 5, 5, 5, 5, 5, 5, 5, 5, 5, 5, 5, 5, 5, 5, 5, 5, 5, 5, 5, 5, 5, 5, 5, 5, 5, 5, 5, 5, 5, 5, 5, 5, 5, 5, 5, 5, 5, 5, 5, 5, 5, 5, 5, 5, 5, 5, 5, 5, 5, 5, 5, 5, 5, 5, 5, 5, 5, 5, 5, 5, 5, 5, 5, 5, 5, 5, 5, 5, 5, 5, 5, np.int64(47)] 80\n",
            "INPUT audio.shape = (223852,) | samplerate = 44100\n",
            "N = 2 | C = 837900 | step = 418950 | fade_size = 132300\n",
            "Success! Output file saved as /content/processed_32a0236862e3a152f7dbeaa7644de81a.wav\n",
            "Finished processing 32a0236862e3a152f7dbeaa7644de81a.mp3. Output saved to /content/processed_32a0236862e3a152f7dbeaa7644de81a.wav\n",
            "Processing 2bd5b5cbd681af6ec512be47babece81.mp3...\n",
            "_target_: look2hear.models.apollo.Apollo\n",
            "feature_dim: 384\n",
            "layer: 6\n",
            "sr: 44100\n",
            "win: 20\n",
            "\n",
            "ckpt_path = /content/Apollo/model/apollo_model_uni.ckpt\n",
            "chunk_size = 19, overlap = 2\n",
            "[5, 5, 5, 5, 5, 5, 5, 5, 5, 5, 5, 5, 5, 5, 5, 5, 5, 5, 5, 5, 5, 5, 5, 5, 5, 5, 5, 5, 5, 5, 5, 5, 5, 5, 5, 5, 5, 5, 5, 5, 5, 5, 5, 5, 5, 5, 5, 5, 5, 5, 5, 5, 5, 5, 5, 5, 5, 5, 5, 5, 5, 5, 5, 5, 5, 5, 5, 5, 5, 5, 5, 5, 5, 5, 5, 5, 5, 5, 5, np.int64(47)] 80\n",
            "INPUT audio.shape = (187337,) | samplerate = 44100\n",
            "N = 2 | C = 837900 | step = 418950 | fade_size = 132300\n",
            "Success! Output file saved as /content/processed_2bd5b5cbd681af6ec512be47babece81.wav\n",
            "Finished processing 2bd5b5cbd681af6ec512be47babece81.mp3. Output saved to /content/processed_2bd5b5cbd681af6ec512be47babece81.wav\n",
            "Processing 1687c003d510db7a771078a5212152c8.mp3...\n",
            "_target_: look2hear.models.apollo.Apollo\n",
            "feature_dim: 384\n",
            "layer: 6\n",
            "sr: 44100\n",
            "win: 20\n",
            "\n",
            "ckpt_path = /content/Apollo/model/apollo_model_uni.ckpt\n",
            "chunk_size = 19, overlap = 2\n",
            "[5, 5, 5, 5, 5, 5, 5, 5, 5, 5, 5, 5, 5, 5, 5, 5, 5, 5, 5, 5, 5, 5, 5, 5, 5, 5, 5, 5, 5, 5, 5, 5, 5, 5, 5, 5, 5, 5, 5, 5, 5, 5, 5, 5, 5, 5, 5, 5, 5, 5, 5, 5, 5, 5, 5, 5, 5, 5, 5, 5, 5, 5, 5, 5, 5, 5, 5, 5, 5, 5, 5, 5, 5, 5, 5, 5, 5, 5, 5, np.int64(47)] 80\n",
            "INPUT audio.shape = (220677,) | samplerate = 44100\n",
            "N = 2 | C = 837900 | step = 418950 | fade_size = 132300\n",
            "Success! Output file saved as /content/processed_1687c003d510db7a771078a5212152c8.wav\n",
            "Finished processing 1687c003d510db7a771078a5212152c8.mp3. Output saved to /content/processed_1687c003d510db7a771078a5212152c8.wav\n",
            "Processing a05d96297e106f047f0dd6d74a4d6eaa.mp3...\n",
            "_target_: look2hear.models.apollo.Apollo\n",
            "feature_dim: 384\n",
            "layer: 6\n",
            "sr: 44100\n",
            "win: 20\n",
            "\n",
            "ckpt_path = /content/Apollo/model/apollo_model_uni.ckpt\n",
            "chunk_size = 19, overlap = 2\n",
            "[5, 5, 5, 5, 5, 5, 5, 5, 5, 5, 5, 5, 5, 5, 5, 5, 5, 5, 5, 5, 5, 5, 5, 5, 5, 5, 5, 5, 5, 5, 5, 5, 5, 5, 5, 5, 5, 5, 5, 5, 5, 5, 5, 5, 5, 5, 5, 5, 5, 5, 5, 5, 5, 5, 5, 5, 5, 5, 5, 5, 5, 5, 5, 5, 5, 5, 5, 5, 5, 5, 5, 5, 5, 5, 5, 5, 5, 5, 5, np.int64(47)] 80\n",
            "INPUT audio.shape = (217502,) | samplerate = 44100\n",
            "N = 2 | C = 837900 | step = 418950 | fade_size = 132300\n",
            "Success! Output file saved as /content/processed_a05d96297e106f047f0dd6d74a4d6eaa.wav\n",
            "Finished processing a05d96297e106f047f0dd6d74a4d6eaa.mp3. Output saved to /content/processed_a05d96297e106f047f0dd6d74a4d6eaa.wav\n",
            "Processing de9b56b4ae9244ac3cc2b2127953a846.mp3...\n",
            "_target_: look2hear.models.apollo.Apollo\n",
            "feature_dim: 384\n",
            "layer: 6\n",
            "sr: 44100\n",
            "win: 20\n",
            "\n",
            "ckpt_path = /content/Apollo/model/apollo_model_uni.ckpt\n",
            "chunk_size = 19, overlap = 2\n",
            "[5, 5, 5, 5, 5, 5, 5, 5, 5, 5, 5, 5, 5, 5, 5, 5, 5, 5, 5, 5, 5, 5, 5, 5, 5, 5, 5, 5, 5, 5, 5, 5, 5, 5, 5, 5, 5, 5, 5, 5, 5, 5, 5, 5, 5, 5, 5, 5, 5, 5, 5, 5, 5, 5, 5, 5, 5, 5, 5, 5, 5, 5, 5, 5, 5, 5, 5, 5, 5, 5, 5, 5, 5, 5, 5, 5, 5, 5, 5, np.int64(47)] 80\n",
            "INPUT audio.shape = (246078,) | samplerate = 44100\n",
            "N = 2 | C = 837900 | step = 418950 | fade_size = 132300\n",
            "Success! Output file saved as /content/processed_de9b56b4ae9244ac3cc2b2127953a846.wav\n",
            "Finished processing de9b56b4ae9244ac3cc2b2127953a846.mp3. Output saved to /content/processed_de9b56b4ae9244ac3cc2b2127953a846.wav\n",
            "Processing 6cd90a0bde529a58cad60b5c527e9cf4.mp3...\n",
            "_target_: look2hear.models.apollo.Apollo\n",
            "feature_dim: 384\n",
            "layer: 6\n",
            "sr: 44100\n",
            "win: 20\n",
            "\n",
            "ckpt_path = /content/Apollo/model/apollo_model_uni.ckpt\n",
            "chunk_size = 19, overlap = 2\n",
            "[5, 5, 5, 5, 5, 5, 5, 5, 5, 5, 5, 5, 5, 5, 5, 5, 5, 5, 5, 5, 5, 5, 5, 5, 5, 5, 5, 5, 5, 5, 5, 5, 5, 5, 5, 5, 5, 5, 5, 5, 5, 5, 5, 5, 5, 5, 5, 5, 5, 5, 5, 5, 5, 5, 5, 5, 5, 5, 5, 5, 5, 5, 5, 5, 5, 5, 5, 5, 5, 5, 5, 5, 5, 5, 5, 5, 5, 5, 5, np.int64(47)] 80\n",
            "INPUT audio.shape = (115895,) | samplerate = 44100\n",
            "N = 2 | C = 837900 | step = 418950 | fade_size = 132300\n",
            "Success! Output file saved as /content/processed_6cd90a0bde529a58cad60b5c527e9cf4.wav\n",
            "Finished processing 6cd90a0bde529a58cad60b5c527e9cf4.mp3. Output saved to /content/processed_6cd90a0bde529a58cad60b5c527e9cf4.wav\n",
            "Processing bc019e61fe6e8056edaedae589f4daeb.mp3...\n",
            "_target_: look2hear.models.apollo.Apollo\n",
            "feature_dim: 384\n",
            "layer: 6\n",
            "sr: 44100\n",
            "win: 20\n",
            "\n",
            "ckpt_path = /content/Apollo/model/apollo_model_uni.ckpt\n",
            "chunk_size = 19, overlap = 2\n",
            "[5, 5, 5, 5, 5, 5, 5, 5, 5, 5, 5, 5, 5, 5, 5, 5, 5, 5, 5, 5, 5, 5, 5, 5, 5, 5, 5, 5, 5, 5, 5, 5, 5, 5, 5, 5, 5, 5, 5, 5, 5, 5, 5, 5, 5, 5, 5, 5, 5, 5, 5, 5, 5, 5, 5, 5, 5, 5, 5, 5, 5, 5, 5, 5, 5, 5, 5, 5, 5, 5, 5, 5, 5, 5, 5, 5, 5, 5, 5, np.int64(47)] 80\n",
            "INPUT audio.shape = (211151,) | samplerate = 44100\n",
            "N = 2 | C = 837900 | step = 418950 | fade_size = 132300\n",
            "Success! Output file saved as /content/processed_bc019e61fe6e8056edaedae589f4daeb.wav\n",
            "Finished processing bc019e61fe6e8056edaedae589f4daeb.mp3. Output saved to /content/processed_bc019e61fe6e8056edaedae589f4daeb.wav\n",
            "Processing e04db957ff9ac492bee72ea3ce1dde66.mp3...\n",
            "_target_: look2hear.models.apollo.Apollo\n",
            "feature_dim: 384\n",
            "layer: 6\n",
            "sr: 44100\n",
            "win: 20\n",
            "\n",
            "ckpt_path = /content/Apollo/model/apollo_model_uni.ckpt\n",
            "chunk_size = 19, overlap = 2\n",
            "[5, 5, 5, 5, 5, 5, 5, 5, 5, 5, 5, 5, 5, 5, 5, 5, 5, 5, 5, 5, 5, 5, 5, 5, 5, 5, 5, 5, 5, 5, 5, 5, 5, 5, 5, 5, 5, 5, 5, 5, 5, 5, 5, 5, 5, 5, 5, 5, 5, 5, 5, 5, 5, 5, 5, 5, 5, 5, 5, 5, 5, 5, 5, 5, 5, 5, 5, 5, 5, 5, 5, 5, 5, 5, 5, 5, 5, 5, 5, np.int64(47)] 80\n",
            "INPUT audio.shape = (250841,) | samplerate = 44100\n",
            "N = 2 | C = 837900 | step = 418950 | fade_size = 132300\n",
            "Success! Output file saved as /content/processed_e04db957ff9ac492bee72ea3ce1dde66.wav\n",
            "Finished processing e04db957ff9ac492bee72ea3ce1dde66.mp3. Output saved to /content/processed_e04db957ff9ac492bee72ea3ce1dde66.wav\n",
            "Processing dff4e34acefa86466266fc52325ebf06.mp3...\n",
            "_target_: look2hear.models.apollo.Apollo\n",
            "feature_dim: 384\n",
            "layer: 6\n",
            "sr: 44100\n",
            "win: 20\n",
            "\n",
            "ckpt_path = /content/Apollo/model/apollo_model_uni.ckpt\n",
            "chunk_size = 19, overlap = 2\n",
            "[5, 5, 5, 5, 5, 5, 5, 5, 5, 5, 5, 5, 5, 5, 5, 5, 5, 5, 5, 5, 5, 5, 5, 5, 5, 5, 5, 5, 5, 5, 5, 5, 5, 5, 5, 5, 5, 5, 5, 5, 5, 5, 5, 5, 5, 5, 5, 5, 5, 5, 5, 5, 5, 5, 5, 5, 5, 5, 5, 5, 5, 5, 5, 5, 5, 5, 5, 5, 5, 5, 5, 5, 5, 5, 5, 5, 5, 5, 5, np.int64(47)] 80\n",
            "INPUT audio.shape = (157173,) | samplerate = 44100\n",
            "N = 2 | C = 837900 | step = 418950 | fade_size = 132300\n",
            "Success! Output file saved as /content/processed_dff4e34acefa86466266fc52325ebf06.wav\n",
            "Finished processing dff4e34acefa86466266fc52325ebf06.mp3. Output saved to /content/processed_dff4e34acefa86466266fc52325ebf06.wav\n",
            "Processing c8436fbf44173388d980cd8c7d01556f.mp3...\n",
            "_target_: look2hear.models.apollo.Apollo\n",
            "feature_dim: 384\n",
            "layer: 6\n",
            "sr: 44100\n",
            "win: 20\n",
            "\n",
            "ckpt_path = /content/Apollo/model/apollo_model_uni.ckpt\n",
            "chunk_size = 19, overlap = 2\n",
            "[5, 5, 5, 5, 5, 5, 5, 5, 5, 5, 5, 5, 5, 5, 5, 5, 5, 5, 5, 5, 5, 5, 5, 5, 5, 5, 5, 5, 5, 5, 5, 5, 5, 5, 5, 5, 5, 5, 5, 5, 5, 5, 5, 5, 5, 5, 5, 5, 5, 5, 5, 5, 5, 5, 5, 5, 5, 5, 5, 5, 5, 5, 5, 5, 5, 5, 5, 5, 5, 5, 5, 5, 5, 5, 5, 5, 5, 5, 5, np.int64(47)] 80\n",
            "INPUT audio.shape = (442941,) | samplerate = 44100\n",
            "N = 2 | C = 837900 | step = 418950 | fade_size = 132300\n",
            "Success! Output file saved as /content/processed_c8436fbf44173388d980cd8c7d01556f.wav\n",
            "Finished processing c8436fbf44173388d980cd8c7d01556f.mp3. Output saved to /content/processed_c8436fbf44173388d980cd8c7d01556f.wav\n"
          ]
        }
      ]
    },
    {
      "cell_type": "markdown",
      "metadata": {
        "id": "7658dc27"
      },
      "source": [
        "## Modify download cell\n",
        "\n",
        "### Subtask:\n",
        "Update the download cell to offer a way to download each of the processed files individually.\n"
      ]
    },
    {
      "cell_type": "markdown",
      "metadata": {
        "id": "92dc58c6"
      },
      "source": [
        "**Reasoning**:\n",
        "Import the files object and iterate through the processed output paths to download each file individually.\n",
        "\n"
      ]
    },
    {
      "cell_type": "code",
      "metadata": {
        "colab": {
          "base_uri": "https://localhost:8080/",
          "height": 17
        },
        "id": "ea6fbf7c",
        "outputId": "da4403a5-f6fa-4b12-9722-bdef494a3e8f"
      },
      "source": [
        "from google.colab import files\n",
        "\n",
        "for processed_file_path in processed_output_paths:\n",
        "  files.download(processed_file_path)"
      ],
      "execution_count": 10,
      "outputs": [
        {
          "output_type": "display_data",
          "data": {
            "text/plain": [
              "<IPython.core.display.Javascript object>"
            ],
            "application/javascript": [
              "\n",
              "    async function download(id, filename, size) {\n",
              "      if (!google.colab.kernel.accessAllowed) {\n",
              "        return;\n",
              "      }\n",
              "      const div = document.createElement('div');\n",
              "      const label = document.createElement('label');\n",
              "      label.textContent = `Downloading \"${filename}\": `;\n",
              "      div.appendChild(label);\n",
              "      const progress = document.createElement('progress');\n",
              "      progress.max = size;\n",
              "      div.appendChild(progress);\n",
              "      document.body.appendChild(div);\n",
              "\n",
              "      const buffers = [];\n",
              "      let downloaded = 0;\n",
              "\n",
              "      const channel = await google.colab.kernel.comms.open(id);\n",
              "      // Send a message to notify the kernel that we're ready.\n",
              "      channel.send({})\n",
              "\n",
              "      for await (const message of channel.messages) {\n",
              "        // Send a message to notify the kernel that we're ready.\n",
              "        channel.send({})\n",
              "        if (message.buffers) {\n",
              "          for (const buffer of message.buffers) {\n",
              "            buffers.push(buffer);\n",
              "            downloaded += buffer.byteLength;\n",
              "            progress.value = downloaded;\n",
              "          }\n",
              "        }\n",
              "      }\n",
              "      const blob = new Blob(buffers, {type: 'application/binary'});\n",
              "      const a = document.createElement('a');\n",
              "      a.href = window.URL.createObjectURL(blob);\n",
              "      a.download = filename;\n",
              "      div.appendChild(a);\n",
              "      a.click();\n",
              "      div.remove();\n",
              "    }\n",
              "  "
            ]
          },
          "metadata": {}
        },
        {
          "output_type": "display_data",
          "data": {
            "text/plain": [
              "<IPython.core.display.Javascript object>"
            ],
            "application/javascript": [
              "download(\"download_98420e4a-8f91-4a57-a85b-9e4d3f2dd2ad\", \"processed_04b22d081b54213ce1075780b52472ba.wav\", 504902)"
            ]
          },
          "metadata": {}
        },
        {
          "output_type": "display_data",
          "data": {
            "text/plain": [
              "<IPython.core.display.Javascript object>"
            ],
            "application/javascript": [
              "\n",
              "    async function download(id, filename, size) {\n",
              "      if (!google.colab.kernel.accessAllowed) {\n",
              "        return;\n",
              "      }\n",
              "      const div = document.createElement('div');\n",
              "      const label = document.createElement('label');\n",
              "      label.textContent = `Downloading \"${filename}\": `;\n",
              "      div.appendChild(label);\n",
              "      const progress = document.createElement('progress');\n",
              "      progress.max = size;\n",
              "      div.appendChild(progress);\n",
              "      document.body.appendChild(div);\n",
              "\n",
              "      const buffers = [];\n",
              "      let downloaded = 0;\n",
              "\n",
              "      const channel = await google.colab.kernel.comms.open(id);\n",
              "      // Send a message to notify the kernel that we're ready.\n",
              "      channel.send({})\n",
              "\n",
              "      for await (const message of channel.messages) {\n",
              "        // Send a message to notify the kernel that we're ready.\n",
              "        channel.send({})\n",
              "        if (message.buffers) {\n",
              "          for (const buffer of message.buffers) {\n",
              "            buffers.push(buffer);\n",
              "            downloaded += buffer.byteLength;\n",
              "            progress.value = downloaded;\n",
              "          }\n",
              "        }\n",
              "      }\n",
              "      const blob = new Blob(buffers, {type: 'application/binary'});\n",
              "      const a = document.createElement('a');\n",
              "      a.href = window.URL.createObjectURL(blob);\n",
              "      a.download = filename;\n",
              "      div.appendChild(a);\n",
              "      a.click();\n",
              "      div.remove();\n",
              "    }\n",
              "  "
            ]
          },
          "metadata": {}
        },
        {
          "output_type": "display_data",
          "data": {
            "text/plain": [
              "<IPython.core.display.Javascript object>"
            ],
            "application/javascript": [
              "download(\"download_4c822e65-f592-4e12-9880-e520758117ab\", \"processed_2d1329fbe132a8574876e56367abebd9.wav\", 215958)"
            ]
          },
          "metadata": {}
        },
        {
          "output_type": "display_data",
          "data": {
            "text/plain": [
              "<IPython.core.display.Javascript object>"
            ],
            "application/javascript": [
              "\n",
              "    async function download(id, filename, size) {\n",
              "      if (!google.colab.kernel.accessAllowed) {\n",
              "        return;\n",
              "      }\n",
              "      const div = document.createElement('div');\n",
              "      const label = document.createElement('label');\n",
              "      label.textContent = `Downloading \"${filename}\": `;\n",
              "      div.appendChild(label);\n",
              "      const progress = document.createElement('progress');\n",
              "      progress.max = size;\n",
              "      div.appendChild(progress);\n",
              "      document.body.appendChild(div);\n",
              "\n",
              "      const buffers = [];\n",
              "      let downloaded = 0;\n",
              "\n",
              "      const channel = await google.colab.kernel.comms.open(id);\n",
              "      // Send a message to notify the kernel that we're ready.\n",
              "      channel.send({})\n",
              "\n",
              "      for await (const message of channel.messages) {\n",
              "        // Send a message to notify the kernel that we're ready.\n",
              "        channel.send({})\n",
              "        if (message.buffers) {\n",
              "          for (const buffer of message.buffers) {\n",
              "            buffers.push(buffer);\n",
              "            downloaded += buffer.byteLength;\n",
              "            progress.value = downloaded;\n",
              "          }\n",
              "        }\n",
              "      }\n",
              "      const blob = new Blob(buffers, {type: 'application/binary'});\n",
              "      const a = document.createElement('a');\n",
              "      a.href = window.URL.createObjectURL(blob);\n",
              "      a.download = filename;\n",
              "      div.appendChild(a);\n",
              "      a.click();\n",
              "      div.remove();\n",
              "    }\n",
              "  "
            ]
          },
          "metadata": {}
        },
        {
          "output_type": "display_data",
          "data": {
            "text/plain": [
              "<IPython.core.display.Javascript object>"
            ],
            "application/javascript": [
              "download(\"download_a517f9fa-90b0-4cd7-bf8c-a52d270972c8\", \"processed_1b0e82a58bad4bf508b5da3961dbd061.wav\", 771618)"
            ]
          },
          "metadata": {}
        },
        {
          "output_type": "display_data",
          "data": {
            "text/plain": [
              "<IPython.core.display.Javascript object>"
            ],
            "application/javascript": [
              "\n",
              "    async function download(id, filename, size) {\n",
              "      if (!google.colab.kernel.accessAllowed) {\n",
              "        return;\n",
              "      }\n",
              "      const div = document.createElement('div');\n",
              "      const label = document.createElement('label');\n",
              "      label.textContent = `Downloading \"${filename}\": `;\n",
              "      div.appendChild(label);\n",
              "      const progress = document.createElement('progress');\n",
              "      progress.max = size;\n",
              "      div.appendChild(progress);\n",
              "      document.body.appendChild(div);\n",
              "\n",
              "      const buffers = [];\n",
              "      let downloaded = 0;\n",
              "\n",
              "      const channel = await google.colab.kernel.comms.open(id);\n",
              "      // Send a message to notify the kernel that we're ready.\n",
              "      channel.send({})\n",
              "\n",
              "      for await (const message of channel.messages) {\n",
              "        // Send a message to notify the kernel that we're ready.\n",
              "        channel.send({})\n",
              "        if (message.buffers) {\n",
              "          for (const buffer of message.buffers) {\n",
              "            buffers.push(buffer);\n",
              "            downloaded += buffer.byteLength;\n",
              "            progress.value = downloaded;\n",
              "          }\n",
              "        }\n",
              "      }\n",
              "      const blob = new Blob(buffers, {type: 'application/binary'});\n",
              "      const a = document.createElement('a');\n",
              "      a.href = window.URL.createObjectURL(blob);\n",
              "      a.download = filename;\n",
              "      div.appendChild(a);\n",
              "      a.click();\n",
              "      div.remove();\n",
              "    }\n",
              "  "
            ]
          },
          "metadata": {}
        },
        {
          "output_type": "display_data",
          "data": {
            "text/plain": [
              "<IPython.core.display.Javascript object>"
            ],
            "application/javascript": [
              "download(\"download_f8fb871e-70b7-4b5c-a488-ef6cbc210e72\", \"processed_b8905cc8f92259532106dacce6443a18.wav\", 403296)"
            ]
          },
          "metadata": {}
        },
        {
          "output_type": "display_data",
          "data": {
            "text/plain": [
              "<IPython.core.display.Javascript object>"
            ],
            "application/javascript": [
              "\n",
              "    async function download(id, filename, size) {\n",
              "      if (!google.colab.kernel.accessAllowed) {\n",
              "        return;\n",
              "      }\n",
              "      const div = document.createElement('div');\n",
              "      const label = document.createElement('label');\n",
              "      label.textContent = `Downloading \"${filename}\": `;\n",
              "      div.appendChild(label);\n",
              "      const progress = document.createElement('progress');\n",
              "      progress.max = size;\n",
              "      div.appendChild(progress);\n",
              "      document.body.appendChild(div);\n",
              "\n",
              "      const buffers = [];\n",
              "      let downloaded = 0;\n",
              "\n",
              "      const channel = await google.colab.kernel.comms.open(id);\n",
              "      // Send a message to notify the kernel that we're ready.\n",
              "      channel.send({})\n",
              "\n",
              "      for await (const message of channel.messages) {\n",
              "        // Send a message to notify the kernel that we're ready.\n",
              "        channel.send({})\n",
              "        if (message.buffers) {\n",
              "          for (const buffer of message.buffers) {\n",
              "            buffers.push(buffer);\n",
              "            downloaded += buffer.byteLength;\n",
              "            progress.value = downloaded;\n",
              "          }\n",
              "        }\n",
              "      }\n",
              "      const blob = new Blob(buffers, {type: 'application/binary'});\n",
              "      const a = document.createElement('a');\n",
              "      a.href = window.URL.createObjectURL(blob);\n",
              "      a.download = filename;\n",
              "      div.appendChild(a);\n",
              "      a.click();\n",
              "      div.remove();\n",
              "    }\n",
              "  "
            ]
          },
          "metadata": {}
        },
        {
          "output_type": "display_data",
          "data": {
            "text/plain": [
              "<IPython.core.display.Javascript object>"
            ],
            "application/javascript": [
              "download(\"download_50b7fc63-bdf8-4e36-bc32-5856c68f6347\", \"processed_08f4cfc6d1d611660971286ffce3792a.wav\", 1108190)"
            ]
          },
          "metadata": {}
        },
        {
          "output_type": "display_data",
          "data": {
            "text/plain": [
              "<IPython.core.display.Javascript object>"
            ],
            "application/javascript": [
              "\n",
              "    async function download(id, filename, size) {\n",
              "      if (!google.colab.kernel.accessAllowed) {\n",
              "        return;\n",
              "      }\n",
              "      const div = document.createElement('div');\n",
              "      const label = document.createElement('label');\n",
              "      label.textContent = `Downloading \"${filename}\": `;\n",
              "      div.appendChild(label);\n",
              "      const progress = document.createElement('progress');\n",
              "      progress.max = size;\n",
              "      div.appendChild(progress);\n",
              "      document.body.appendChild(div);\n",
              "\n",
              "      const buffers = [];\n",
              "      let downloaded = 0;\n",
              "\n",
              "      const channel = await google.colab.kernel.comms.open(id);\n",
              "      // Send a message to notify the kernel that we're ready.\n",
              "      channel.send({})\n",
              "\n",
              "      for await (const message of channel.messages) {\n",
              "        // Send a message to notify the kernel that we're ready.\n",
              "        channel.send({})\n",
              "        if (message.buffers) {\n",
              "          for (const buffer of message.buffers) {\n",
              "            buffers.push(buffer);\n",
              "            downloaded += buffer.byteLength;\n",
              "            progress.value = downloaded;\n",
              "          }\n",
              "        }\n",
              "      }\n",
              "      const blob = new Blob(buffers, {type: 'application/binary'});\n",
              "      const a = document.createElement('a');\n",
              "      a.href = window.URL.createObjectURL(blob);\n",
              "      a.download = filename;\n",
              "      div.appendChild(a);\n",
              "      a.click();\n",
              "      div.remove();\n",
              "    }\n",
              "  "
            ]
          },
          "metadata": {}
        },
        {
          "output_type": "display_data",
          "data": {
            "text/plain": [
              "<IPython.core.display.Javascript object>"
            ],
            "application/javascript": [
              "download(\"download_f4a7477f-10f2-48d2-89ee-ca5056581e37\", \"processed_739a5ef1799e210c21be74fa115874ae.wav\", 857348)"
            ]
          },
          "metadata": {}
        },
        {
          "output_type": "display_data",
          "data": {
            "text/plain": [
              "<IPython.core.display.Javascript object>"
            ],
            "application/javascript": [
              "\n",
              "    async function download(id, filename, size) {\n",
              "      if (!google.colab.kernel.accessAllowed) {\n",
              "        return;\n",
              "      }\n",
              "      const div = document.createElement('div');\n",
              "      const label = document.createElement('label');\n",
              "      label.textContent = `Downloading \"${filename}\": `;\n",
              "      div.appendChild(label);\n",
              "      const progress = document.createElement('progress');\n",
              "      progress.max = size;\n",
              "      div.appendChild(progress);\n",
              "      document.body.appendChild(div);\n",
              "\n",
              "      const buffers = [];\n",
              "      let downloaded = 0;\n",
              "\n",
              "      const channel = await google.colab.kernel.comms.open(id);\n",
              "      // Send a message to notify the kernel that we're ready.\n",
              "      channel.send({})\n",
              "\n",
              "      for await (const message of channel.messages) {\n",
              "        // Send a message to notify the kernel that we're ready.\n",
              "        channel.send({})\n",
              "        if (message.buffers) {\n",
              "          for (const buffer of message.buffers) {\n",
              "            buffers.push(buffer);\n",
              "            downloaded += buffer.byteLength;\n",
              "            progress.value = downloaded;\n",
              "          }\n",
              "        }\n",
              "      }\n",
              "      const blob = new Blob(buffers, {type: 'application/binary'});\n",
              "      const a = document.createElement('a');\n",
              "      a.href = window.URL.createObjectURL(blob);\n",
              "      a.download = filename;\n",
              "      div.appendChild(a);\n",
              "      a.click();\n",
              "      div.remove();\n",
              "    }\n",
              "  "
            ]
          },
          "metadata": {}
        },
        {
          "output_type": "display_data",
          "data": {
            "text/plain": [
              "<IPython.core.display.Javascript object>"
            ],
            "application/javascript": [
              "download(\"download_e3a34f3e-df39-4531-9055-ff45811dd1ba\", \"processed_8d9c75a7e7029be67cf3d0d3fea73863.wav\", 1105014)"
            ]
          },
          "metadata": {}
        },
        {
          "output_type": "display_data",
          "data": {
            "text/plain": [
              "<IPython.core.display.Javascript object>"
            ],
            "application/javascript": [
              "\n",
              "    async function download(id, filename, size) {\n",
              "      if (!google.colab.kernel.accessAllowed) {\n",
              "        return;\n",
              "      }\n",
              "      const div = document.createElement('div');\n",
              "      const label = document.createElement('label');\n",
              "      label.textContent = `Downloading \"${filename}\": `;\n",
              "      div.appendChild(label);\n",
              "      const progress = document.createElement('progress');\n",
              "      progress.max = size;\n",
              "      div.appendChild(progress);\n",
              "      document.body.appendChild(div);\n",
              "\n",
              "      const buffers = [];\n",
              "      let downloaded = 0;\n",
              "\n",
              "      const channel = await google.colab.kernel.comms.open(id);\n",
              "      // Send a message to notify the kernel that we're ready.\n",
              "      channel.send({})\n",
              "\n",
              "      for await (const message of channel.messages) {\n",
              "        // Send a message to notify the kernel that we're ready.\n",
              "        channel.send({})\n",
              "        if (message.buffers) {\n",
              "          for (const buffer of message.buffers) {\n",
              "            buffers.push(buffer);\n",
              "            downloaded += buffer.byteLength;\n",
              "            progress.value = downloaded;\n",
              "          }\n",
              "        }\n",
              "      }\n",
              "      const blob = new Blob(buffers, {type: 'application/binary'});\n",
              "      const a = document.createElement('a');\n",
              "      a.href = window.URL.createObjectURL(blob);\n",
              "      a.download = filename;\n",
              "      div.appendChild(a);\n",
              "      a.click();\n",
              "      div.remove();\n",
              "    }\n",
              "  "
            ]
          },
          "metadata": {}
        },
        {
          "output_type": "display_data",
          "data": {
            "text/plain": [
              "<IPython.core.display.Javascript object>"
            ],
            "application/javascript": [
              "download(\"download_61650f96-998d-417d-82fc-e415e9ffa3e1\", \"processed_51443b412dde9075b5c0a269c7d1f62e.wav\", 609684)"
            ]
          },
          "metadata": {}
        },
        {
          "output_type": "display_data",
          "data": {
            "text/plain": [
              "<IPython.core.display.Javascript object>"
            ],
            "application/javascript": [
              "\n",
              "    async function download(id, filename, size) {\n",
              "      if (!google.colab.kernel.accessAllowed) {\n",
              "        return;\n",
              "      }\n",
              "      const div = document.createElement('div');\n",
              "      const label = document.createElement('label');\n",
              "      label.textContent = `Downloading \"${filename}\": `;\n",
              "      div.appendChild(label);\n",
              "      const progress = document.createElement('progress');\n",
              "      progress.max = size;\n",
              "      div.appendChild(progress);\n",
              "      document.body.appendChild(div);\n",
              "\n",
              "      const buffers = [];\n",
              "      let downloaded = 0;\n",
              "\n",
              "      const channel = await google.colab.kernel.comms.open(id);\n",
              "      // Send a message to notify the kernel that we're ready.\n",
              "      channel.send({})\n",
              "\n",
              "      for await (const message of channel.messages) {\n",
              "        // Send a message to notify the kernel that we're ready.\n",
              "        channel.send({})\n",
              "        if (message.buffers) {\n",
              "          for (const buffer of message.buffers) {\n",
              "            buffers.push(buffer);\n",
              "            downloaded += buffer.byteLength;\n",
              "            progress.value = downloaded;\n",
              "          }\n",
              "        }\n",
              "      }\n",
              "      const blob = new Blob(buffers, {type: 'application/binary'});\n",
              "      const a = document.createElement('a');\n",
              "      a.href = window.URL.createObjectURL(blob);\n",
              "      a.download = filename;\n",
              "      div.appendChild(a);\n",
              "      a.click();\n",
              "      div.remove();\n",
              "    }\n",
              "  "
            ]
          },
          "metadata": {}
        },
        {
          "output_type": "display_data",
          "data": {
            "text/plain": [
              "<IPython.core.display.Javascript object>"
            ],
            "application/javascript": [
              "download(\"download_62982393-a72f-4ecd-8598-6415965f8282\", \"processed_4b4b9dc89ed92ed370dcd35c4818b4d2.wav\", 739866)"
            ]
          },
          "metadata": {}
        },
        {
          "output_type": "display_data",
          "data": {
            "text/plain": [
              "<IPython.core.display.Javascript object>"
            ],
            "application/javascript": [
              "\n",
              "    async function download(id, filename, size) {\n",
              "      if (!google.colab.kernel.accessAllowed) {\n",
              "        return;\n",
              "      }\n",
              "      const div = document.createElement('div');\n",
              "      const label = document.createElement('label');\n",
              "      label.textContent = `Downloading \"${filename}\": `;\n",
              "      div.appendChild(label);\n",
              "      const progress = document.createElement('progress');\n",
              "      progress.max = size;\n",
              "      div.appendChild(progress);\n",
              "      document.body.appendChild(div);\n",
              "\n",
              "      const buffers = [];\n",
              "      let downloaded = 0;\n",
              "\n",
              "      const channel = await google.colab.kernel.comms.open(id);\n",
              "      // Send a message to notify the kernel that we're ready.\n",
              "      channel.send({})\n",
              "\n",
              "      for await (const message of channel.messages) {\n",
              "        // Send a message to notify the kernel that we're ready.\n",
              "        channel.send({})\n",
              "        if (message.buffers) {\n",
              "          for (const buffer of message.buffers) {\n",
              "            buffers.push(buffer);\n",
              "            downloaded += buffer.byteLength;\n",
              "            progress.value = downloaded;\n",
              "          }\n",
              "        }\n",
              "      }\n",
              "      const blob = new Blob(buffers, {type: 'application/binary'});\n",
              "      const a = document.createElement('a');\n",
              "      a.href = window.URL.createObjectURL(blob);\n",
              "      a.download = filename;\n",
              "      div.appendChild(a);\n",
              "      a.click();\n",
              "      div.remove();\n",
              "    }\n",
              "  "
            ]
          },
          "metadata": {}
        },
        {
          "output_type": "display_data",
          "data": {
            "text/plain": [
              "<IPython.core.display.Javascript object>"
            ],
            "application/javascript": [
              "download(\"download_1442ddd9-05e9-43d5-b5cb-06351b61099f\", \"processed_5f58c72905924f9ab8b4dda0190c90f7.wav\", 444572)"
            ]
          },
          "metadata": {}
        },
        {
          "output_type": "display_data",
          "data": {
            "text/plain": [
              "<IPython.core.display.Javascript object>"
            ],
            "application/javascript": [
              "\n",
              "    async function download(id, filename, size) {\n",
              "      if (!google.colab.kernel.accessAllowed) {\n",
              "        return;\n",
              "      }\n",
              "      const div = document.createElement('div');\n",
              "      const label = document.createElement('label');\n",
              "      label.textContent = `Downloading \"${filename}\": `;\n",
              "      div.appendChild(label);\n",
              "      const progress = document.createElement('progress');\n",
              "      progress.max = size;\n",
              "      div.appendChild(progress);\n",
              "      document.body.appendChild(div);\n",
              "\n",
              "      const buffers = [];\n",
              "      let downloaded = 0;\n",
              "\n",
              "      const channel = await google.colab.kernel.comms.open(id);\n",
              "      // Send a message to notify the kernel that we're ready.\n",
              "      channel.send({})\n",
              "\n",
              "      for await (const message of channel.messages) {\n",
              "        // Send a message to notify the kernel that we're ready.\n",
              "        channel.send({})\n",
              "        if (message.buffers) {\n",
              "          for (const buffer of message.buffers) {\n",
              "            buffers.push(buffer);\n",
              "            downloaded += buffer.byteLength;\n",
              "            progress.value = downloaded;\n",
              "          }\n",
              "        }\n",
              "      }\n",
              "      const blob = new Blob(buffers, {type: 'application/binary'});\n",
              "      const a = document.createElement('a');\n",
              "      a.href = window.URL.createObjectURL(blob);\n",
              "      a.download = filename;\n",
              "      div.appendChild(a);\n",
              "      a.click();\n",
              "      div.remove();\n",
              "    }\n",
              "  "
            ]
          },
          "metadata": {}
        },
        {
          "output_type": "display_data",
          "data": {
            "text/plain": [
              "<IPython.core.display.Javascript object>"
            ],
            "application/javascript": [
              "download(\"download_9e54eedf-0215-4919-a37d-a5bc48f4f8b6\", \"processed_fd9af390e66556c4d8fa6913d6d9ea03.wav\", 403296)"
            ]
          },
          "metadata": {}
        },
        {
          "output_type": "display_data",
          "data": {
            "text/plain": [
              "<IPython.core.display.Javascript object>"
            ],
            "application/javascript": [
              "\n",
              "    async function download(id, filename, size) {\n",
              "      if (!google.colab.kernel.accessAllowed) {\n",
              "        return;\n",
              "      }\n",
              "      const div = document.createElement('div');\n",
              "      const label = document.createElement('label');\n",
              "      label.textContent = `Downloading \"${filename}\": `;\n",
              "      div.appendChild(label);\n",
              "      const progress = document.createElement('progress');\n",
              "      progress.max = size;\n",
              "      div.appendChild(progress);\n",
              "      document.body.appendChild(div);\n",
              "\n",
              "      const buffers = [];\n",
              "      let downloaded = 0;\n",
              "\n",
              "      const channel = await google.colab.kernel.comms.open(id);\n",
              "      // Send a message to notify the kernel that we're ready.\n",
              "      channel.send({})\n",
              "\n",
              "      for await (const message of channel.messages) {\n",
              "        // Send a message to notify the kernel that we're ready.\n",
              "        channel.send({})\n",
              "        if (message.buffers) {\n",
              "          for (const buffer of message.buffers) {\n",
              "            buffers.push(buffer);\n",
              "            downloaded += buffer.byteLength;\n",
              "            progress.value = downloaded;\n",
              "          }\n",
              "        }\n",
              "      }\n",
              "      const blob = new Blob(buffers, {type: 'application/binary'});\n",
              "      const a = document.createElement('a');\n",
              "      a.href = window.URL.createObjectURL(blob);\n",
              "      a.download = filename;\n",
              "      div.appendChild(a);\n",
              "      a.click();\n",
              "      div.remove();\n",
              "    }\n",
              "  "
            ]
          },
          "metadata": {}
        },
        {
          "output_type": "display_data",
          "data": {
            "text/plain": [
              "<IPython.core.display.Javascript object>"
            ],
            "application/javascript": [
              "download(\"download_a2329c92-64a3-4ffc-8bf6-f619599e0fb7\", \"processed_5fb0876b81fa5bd41c8a90ac8eac236a.wav\", 981182)"
            ]
          },
          "metadata": {}
        },
        {
          "output_type": "display_data",
          "data": {
            "text/plain": [
              "<IPython.core.display.Javascript object>"
            ],
            "application/javascript": [
              "\n",
              "    async function download(id, filename, size) {\n",
              "      if (!google.colab.kernel.accessAllowed) {\n",
              "        return;\n",
              "      }\n",
              "      const div = document.createElement('div');\n",
              "      const label = document.createElement('label');\n",
              "      label.textContent = `Downloading \"${filename}\": `;\n",
              "      div.appendChild(label);\n",
              "      const progress = document.createElement('progress');\n",
              "      progress.max = size;\n",
              "      div.appendChild(progress);\n",
              "      document.body.appendChild(div);\n",
              "\n",
              "      const buffers = [];\n",
              "      let downloaded = 0;\n",
              "\n",
              "      const channel = await google.colab.kernel.comms.open(id);\n",
              "      // Send a message to notify the kernel that we're ready.\n",
              "      channel.send({})\n",
              "\n",
              "      for await (const message of channel.messages) {\n",
              "        // Send a message to notify the kernel that we're ready.\n",
              "        channel.send({})\n",
              "        if (message.buffers) {\n",
              "          for (const buffer of message.buffers) {\n",
              "            buffers.push(buffer);\n",
              "            downloaded += buffer.byteLength;\n",
              "            progress.value = downloaded;\n",
              "          }\n",
              "        }\n",
              "      }\n",
              "      const blob = new Blob(buffers, {type: 'application/binary'});\n",
              "      const a = document.createElement('a');\n",
              "      a.href = window.URL.createObjectURL(blob);\n",
              "      a.download = filename;\n",
              "      div.appendChild(a);\n",
              "      a.click();\n",
              "      div.remove();\n",
              "    }\n",
              "  "
            ]
          },
          "metadata": {}
        },
        {
          "output_type": "display_data",
          "data": {
            "text/plain": [
              "<IPython.core.display.Javascript object>"
            ],
            "application/javascript": [
              "download(\"download_85010224-c9c5-4b5b-8535-3e2e989ed9f6\", \"processed_32a0236862e3a152f7dbeaa7644de81a.wav\", 447748)"
            ]
          },
          "metadata": {}
        },
        {
          "output_type": "display_data",
          "data": {
            "text/plain": [
              "<IPython.core.display.Javascript object>"
            ],
            "application/javascript": [
              "\n",
              "    async function download(id, filename, size) {\n",
              "      if (!google.colab.kernel.accessAllowed) {\n",
              "        return;\n",
              "      }\n",
              "      const div = document.createElement('div');\n",
              "      const label = document.createElement('label');\n",
              "      label.textContent = `Downloading \"${filename}\": `;\n",
              "      div.appendChild(label);\n",
              "      const progress = document.createElement('progress');\n",
              "      progress.max = size;\n",
              "      div.appendChild(progress);\n",
              "      document.body.appendChild(div);\n",
              "\n",
              "      const buffers = [];\n",
              "      let downloaded = 0;\n",
              "\n",
              "      const channel = await google.colab.kernel.comms.open(id);\n",
              "      // Send a message to notify the kernel that we're ready.\n",
              "      channel.send({})\n",
              "\n",
              "      for await (const message of channel.messages) {\n",
              "        // Send a message to notify the kernel that we're ready.\n",
              "        channel.send({})\n",
              "        if (message.buffers) {\n",
              "          for (const buffer of message.buffers) {\n",
              "            buffers.push(buffer);\n",
              "            downloaded += buffer.byteLength;\n",
              "            progress.value = downloaded;\n",
              "          }\n",
              "        }\n",
              "      }\n",
              "      const blob = new Blob(buffers, {type: 'application/binary'});\n",
              "      const a = document.createElement('a');\n",
              "      a.href = window.URL.createObjectURL(blob);\n",
              "      a.download = filename;\n",
              "      div.appendChild(a);\n",
              "      a.click();\n",
              "      div.remove();\n",
              "    }\n",
              "  "
            ]
          },
          "metadata": {}
        },
        {
          "output_type": "display_data",
          "data": {
            "text/plain": [
              "<IPython.core.display.Javascript object>"
            ],
            "application/javascript": [
              "download(\"download_0ea716f7-0254-42a7-af39-8c90739bdab8\", \"processed_2bd5b5cbd681af6ec512be47babece81.wav\", 374718)"
            ]
          },
          "metadata": {}
        },
        {
          "output_type": "display_data",
          "data": {
            "text/plain": [
              "<IPython.core.display.Javascript object>"
            ],
            "application/javascript": [
              "\n",
              "    async function download(id, filename, size) {\n",
              "      if (!google.colab.kernel.accessAllowed) {\n",
              "        return;\n",
              "      }\n",
              "      const div = document.createElement('div');\n",
              "      const label = document.createElement('label');\n",
              "      label.textContent = `Downloading \"${filename}\": `;\n",
              "      div.appendChild(label);\n",
              "      const progress = document.createElement('progress');\n",
              "      progress.max = size;\n",
              "      div.appendChild(progress);\n",
              "      document.body.appendChild(div);\n",
              "\n",
              "      const buffers = [];\n",
              "      let downloaded = 0;\n",
              "\n",
              "      const channel = await google.colab.kernel.comms.open(id);\n",
              "      // Send a message to notify the kernel that we're ready.\n",
              "      channel.send({})\n",
              "\n",
              "      for await (const message of channel.messages) {\n",
              "        // Send a message to notify the kernel that we're ready.\n",
              "        channel.send({})\n",
              "        if (message.buffers) {\n",
              "          for (const buffer of message.buffers) {\n",
              "            buffers.push(buffer);\n",
              "            downloaded += buffer.byteLength;\n",
              "            progress.value = downloaded;\n",
              "          }\n",
              "        }\n",
              "      }\n",
              "      const blob = new Blob(buffers, {type: 'application/binary'});\n",
              "      const a = document.createElement('a');\n",
              "      a.href = window.URL.createObjectURL(blob);\n",
              "      a.download = filename;\n",
              "      div.appendChild(a);\n",
              "      a.click();\n",
              "      div.remove();\n",
              "    }\n",
              "  "
            ]
          },
          "metadata": {}
        },
        {
          "output_type": "display_data",
          "data": {
            "text/plain": [
              "<IPython.core.display.Javascript object>"
            ],
            "application/javascript": [
              "download(\"download_2fd55be3-1095-402b-89cb-0f9204f0def4\", \"processed_1687c003d510db7a771078a5212152c8.wav\", 441398)"
            ]
          },
          "metadata": {}
        },
        {
          "output_type": "display_data",
          "data": {
            "text/plain": [
              "<IPython.core.display.Javascript object>"
            ],
            "application/javascript": [
              "\n",
              "    async function download(id, filename, size) {\n",
              "      if (!google.colab.kernel.accessAllowed) {\n",
              "        return;\n",
              "      }\n",
              "      const div = document.createElement('div');\n",
              "      const label = document.createElement('label');\n",
              "      label.textContent = `Downloading \"${filename}\": `;\n",
              "      div.appendChild(label);\n",
              "      const progress = document.createElement('progress');\n",
              "      progress.max = size;\n",
              "      div.appendChild(progress);\n",
              "      document.body.appendChild(div);\n",
              "\n",
              "      const buffers = [];\n",
              "      let downloaded = 0;\n",
              "\n",
              "      const channel = await google.colab.kernel.comms.open(id);\n",
              "      // Send a message to notify the kernel that we're ready.\n",
              "      channel.send({})\n",
              "\n",
              "      for await (const message of channel.messages) {\n",
              "        // Send a message to notify the kernel that we're ready.\n",
              "        channel.send({})\n",
              "        if (message.buffers) {\n",
              "          for (const buffer of message.buffers) {\n",
              "            buffers.push(buffer);\n",
              "            downloaded += buffer.byteLength;\n",
              "            progress.value = downloaded;\n",
              "          }\n",
              "        }\n",
              "      }\n",
              "      const blob = new Blob(buffers, {type: 'application/binary'});\n",
              "      const a = document.createElement('a');\n",
              "      a.href = window.URL.createObjectURL(blob);\n",
              "      a.download = filename;\n",
              "      div.appendChild(a);\n",
              "      a.click();\n",
              "      div.remove();\n",
              "    }\n",
              "  "
            ]
          },
          "metadata": {}
        },
        {
          "output_type": "display_data",
          "data": {
            "text/plain": [
              "<IPython.core.display.Javascript object>"
            ],
            "application/javascript": [
              "download(\"download_de903f7c-7a27-439a-ad4e-dfb24dc9b115\", \"processed_a05d96297e106f047f0dd6d74a4d6eaa.wav\", 435048)"
            ]
          },
          "metadata": {}
        },
        {
          "output_type": "display_data",
          "data": {
            "text/plain": [
              "<IPython.core.display.Javascript object>"
            ],
            "application/javascript": [
              "\n",
              "    async function download(id, filename, size) {\n",
              "      if (!google.colab.kernel.accessAllowed) {\n",
              "        return;\n",
              "      }\n",
              "      const div = document.createElement('div');\n",
              "      const label = document.createElement('label');\n",
              "      label.textContent = `Downloading \"${filename}\": `;\n",
              "      div.appendChild(label);\n",
              "      const progress = document.createElement('progress');\n",
              "      progress.max = size;\n",
              "      div.appendChild(progress);\n",
              "      document.body.appendChild(div);\n",
              "\n",
              "      const buffers = [];\n",
              "      let downloaded = 0;\n",
              "\n",
              "      const channel = await google.colab.kernel.comms.open(id);\n",
              "      // Send a message to notify the kernel that we're ready.\n",
              "      channel.send({})\n",
              "\n",
              "      for await (const message of channel.messages) {\n",
              "        // Send a message to notify the kernel that we're ready.\n",
              "        channel.send({})\n",
              "        if (message.buffers) {\n",
              "          for (const buffer of message.buffers) {\n",
              "            buffers.push(buffer);\n",
              "            downloaded += buffer.byteLength;\n",
              "            progress.value = downloaded;\n",
              "          }\n",
              "        }\n",
              "      }\n",
              "      const blob = new Blob(buffers, {type: 'application/binary'});\n",
              "      const a = document.createElement('a');\n",
              "      a.href = window.URL.createObjectURL(blob);\n",
              "      a.download = filename;\n",
              "      div.appendChild(a);\n",
              "      a.click();\n",
              "      div.remove();\n",
              "    }\n",
              "  "
            ]
          },
          "metadata": {}
        },
        {
          "output_type": "display_data",
          "data": {
            "text/plain": [
              "<IPython.core.display.Javascript object>"
            ],
            "application/javascript": [
              "download(\"download_6959a3bc-6185-4e9d-adc7-3e09628d218e\", \"processed_de9b56b4ae9244ac3cc2b2127953a846.wav\", 492200)"
            ]
          },
          "metadata": {}
        },
        {
          "output_type": "display_data",
          "data": {
            "text/plain": [
              "<IPython.core.display.Javascript object>"
            ],
            "application/javascript": [
              "\n",
              "    async function download(id, filename, size) {\n",
              "      if (!google.colab.kernel.accessAllowed) {\n",
              "        return;\n",
              "      }\n",
              "      const div = document.createElement('div');\n",
              "      const label = document.createElement('label');\n",
              "      label.textContent = `Downloading \"${filename}\": `;\n",
              "      div.appendChild(label);\n",
              "      const progress = document.createElement('progress');\n",
              "      progress.max = size;\n",
              "      div.appendChild(progress);\n",
              "      document.body.appendChild(div);\n",
              "\n",
              "      const buffers = [];\n",
              "      let downloaded = 0;\n",
              "\n",
              "      const channel = await google.colab.kernel.comms.open(id);\n",
              "      // Send a message to notify the kernel that we're ready.\n",
              "      channel.send({})\n",
              "\n",
              "      for await (const message of channel.messages) {\n",
              "        // Send a message to notify the kernel that we're ready.\n",
              "        channel.send({})\n",
              "        if (message.buffers) {\n",
              "          for (const buffer of message.buffers) {\n",
              "            buffers.push(buffer);\n",
              "            downloaded += buffer.byteLength;\n",
              "            progress.value = downloaded;\n",
              "          }\n",
              "        }\n",
              "      }\n",
              "      const blob = new Blob(buffers, {type: 'application/binary'});\n",
              "      const a = document.createElement('a');\n",
              "      a.href = window.URL.createObjectURL(blob);\n",
              "      a.download = filename;\n",
              "      div.appendChild(a);\n",
              "      a.click();\n",
              "      div.remove();\n",
              "    }\n",
              "  "
            ]
          },
          "metadata": {}
        },
        {
          "output_type": "display_data",
          "data": {
            "text/plain": [
              "<IPython.core.display.Javascript object>"
            ],
            "application/javascript": [
              "download(\"download_8adf22f2-0d12-4e9d-9ea6-d49e8007d6ee\", \"processed_6cd90a0bde529a58cad60b5c527e9cf4.wav\", 231834)"
            ]
          },
          "metadata": {}
        },
        {
          "output_type": "display_data",
          "data": {
            "text/plain": [
              "<IPython.core.display.Javascript object>"
            ],
            "application/javascript": [
              "\n",
              "    async function download(id, filename, size) {\n",
              "      if (!google.colab.kernel.accessAllowed) {\n",
              "        return;\n",
              "      }\n",
              "      const div = document.createElement('div');\n",
              "      const label = document.createElement('label');\n",
              "      label.textContent = `Downloading \"${filename}\": `;\n",
              "      div.appendChild(label);\n",
              "      const progress = document.createElement('progress');\n",
              "      progress.max = size;\n",
              "      div.appendChild(progress);\n",
              "      document.body.appendChild(div);\n",
              "\n",
              "      const buffers = [];\n",
              "      let downloaded = 0;\n",
              "\n",
              "      const channel = await google.colab.kernel.comms.open(id);\n",
              "      // Send a message to notify the kernel that we're ready.\n",
              "      channel.send({})\n",
              "\n",
              "      for await (const message of channel.messages) {\n",
              "        // Send a message to notify the kernel that we're ready.\n",
              "        channel.send({})\n",
              "        if (message.buffers) {\n",
              "          for (const buffer of message.buffers) {\n",
              "            buffers.push(buffer);\n",
              "            downloaded += buffer.byteLength;\n",
              "            progress.value = downloaded;\n",
              "          }\n",
              "        }\n",
              "      }\n",
              "      const blob = new Blob(buffers, {type: 'application/binary'});\n",
              "      const a = document.createElement('a');\n",
              "      a.href = window.URL.createObjectURL(blob);\n",
              "      a.download = filename;\n",
              "      div.appendChild(a);\n",
              "      a.click();\n",
              "      div.remove();\n",
              "    }\n",
              "  "
            ]
          },
          "metadata": {}
        },
        {
          "output_type": "display_data",
          "data": {
            "text/plain": [
              "<IPython.core.display.Javascript object>"
            ],
            "application/javascript": [
              "download(\"download_75dbce18-aad0-4f80-87da-0fea855a15bb\", \"processed_bc019e61fe6e8056edaedae589f4daeb.wav\", 422346)"
            ]
          },
          "metadata": {}
        },
        {
          "output_type": "display_data",
          "data": {
            "text/plain": [
              "<IPython.core.display.Javascript object>"
            ],
            "application/javascript": [
              "\n",
              "    async function download(id, filename, size) {\n",
              "      if (!google.colab.kernel.accessAllowed) {\n",
              "        return;\n",
              "      }\n",
              "      const div = document.createElement('div');\n",
              "      const label = document.createElement('label');\n",
              "      label.textContent = `Downloading \"${filename}\": `;\n",
              "      div.appendChild(label);\n",
              "      const progress = document.createElement('progress');\n",
              "      progress.max = size;\n",
              "      div.appendChild(progress);\n",
              "      document.body.appendChild(div);\n",
              "\n",
              "      const buffers = [];\n",
              "      let downloaded = 0;\n",
              "\n",
              "      const channel = await google.colab.kernel.comms.open(id);\n",
              "      // Send a message to notify the kernel that we're ready.\n",
              "      channel.send({})\n",
              "\n",
              "      for await (const message of channel.messages) {\n",
              "        // Send a message to notify the kernel that we're ready.\n",
              "        channel.send({})\n",
              "        if (message.buffers) {\n",
              "          for (const buffer of message.buffers) {\n",
              "            buffers.push(buffer);\n",
              "            downloaded += buffer.byteLength;\n",
              "            progress.value = downloaded;\n",
              "          }\n",
              "        }\n",
              "      }\n",
              "      const blob = new Blob(buffers, {type: 'application/binary'});\n",
              "      const a = document.createElement('a');\n",
              "      a.href = window.URL.createObjectURL(blob);\n",
              "      a.download = filename;\n",
              "      div.appendChild(a);\n",
              "      a.click();\n",
              "      div.remove();\n",
              "    }\n",
              "  "
            ]
          },
          "metadata": {}
        },
        {
          "output_type": "display_data",
          "data": {
            "text/plain": [
              "<IPython.core.display.Javascript object>"
            ],
            "application/javascript": [
              "download(\"download_5ceda48d-ac4c-4cce-a9b5-4bf6432568d8\", \"processed_e04db957ff9ac492bee72ea3ce1dde66.wav\", 501726)"
            ]
          },
          "metadata": {}
        },
        {
          "output_type": "display_data",
          "data": {
            "text/plain": [
              "<IPython.core.display.Javascript object>"
            ],
            "application/javascript": [
              "\n",
              "    async function download(id, filename, size) {\n",
              "      if (!google.colab.kernel.accessAllowed) {\n",
              "        return;\n",
              "      }\n",
              "      const div = document.createElement('div');\n",
              "      const label = document.createElement('label');\n",
              "      label.textContent = `Downloading \"${filename}\": `;\n",
              "      div.appendChild(label);\n",
              "      const progress = document.createElement('progress');\n",
              "      progress.max = size;\n",
              "      div.appendChild(progress);\n",
              "      document.body.appendChild(div);\n",
              "\n",
              "      const buffers = [];\n",
              "      let downloaded = 0;\n",
              "\n",
              "      const channel = await google.colab.kernel.comms.open(id);\n",
              "      // Send a message to notify the kernel that we're ready.\n",
              "      channel.send({})\n",
              "\n",
              "      for await (const message of channel.messages) {\n",
              "        // Send a message to notify the kernel that we're ready.\n",
              "        channel.send({})\n",
              "        if (message.buffers) {\n",
              "          for (const buffer of message.buffers) {\n",
              "            buffers.push(buffer);\n",
              "            downloaded += buffer.byteLength;\n",
              "            progress.value = downloaded;\n",
              "          }\n",
              "        }\n",
              "      }\n",
              "      const blob = new Blob(buffers, {type: 'application/binary'});\n",
              "      const a = document.createElement('a');\n",
              "      a.href = window.URL.createObjectURL(blob);\n",
              "      a.download = filename;\n",
              "      div.appendChild(a);\n",
              "      a.click();\n",
              "      div.remove();\n",
              "    }\n",
              "  "
            ]
          },
          "metadata": {}
        },
        {
          "output_type": "display_data",
          "data": {
            "text/plain": [
              "<IPython.core.display.Javascript object>"
            ],
            "application/javascript": [
              "download(\"download_a76614a0-3c49-4368-ab57-8eaf444289e7\", \"processed_dff4e34acefa86466266fc52325ebf06.wav\", 314390)"
            ]
          },
          "metadata": {}
        },
        {
          "output_type": "display_data",
          "data": {
            "text/plain": [
              "<IPython.core.display.Javascript object>"
            ],
            "application/javascript": [
              "\n",
              "    async function download(id, filename, size) {\n",
              "      if (!google.colab.kernel.accessAllowed) {\n",
              "        return;\n",
              "      }\n",
              "      const div = document.createElement('div');\n",
              "      const label = document.createElement('label');\n",
              "      label.textContent = `Downloading \"${filename}\": `;\n",
              "      div.appendChild(label);\n",
              "      const progress = document.createElement('progress');\n",
              "      progress.max = size;\n",
              "      div.appendChild(progress);\n",
              "      document.body.appendChild(div);\n",
              "\n",
              "      const buffers = [];\n",
              "      let downloaded = 0;\n",
              "\n",
              "      const channel = await google.colab.kernel.comms.open(id);\n",
              "      // Send a message to notify the kernel that we're ready.\n",
              "      channel.send({})\n",
              "\n",
              "      for await (const message of channel.messages) {\n",
              "        // Send a message to notify the kernel that we're ready.\n",
              "        channel.send({})\n",
              "        if (message.buffers) {\n",
              "          for (const buffer of message.buffers) {\n",
              "            buffers.push(buffer);\n",
              "            downloaded += buffer.byteLength;\n",
              "            progress.value = downloaded;\n",
              "          }\n",
              "        }\n",
              "      }\n",
              "      const blob = new Blob(buffers, {type: 'application/binary'});\n",
              "      const a = document.createElement('a');\n",
              "      a.href = window.URL.createObjectURL(blob);\n",
              "      a.download = filename;\n",
              "      div.appendChild(a);\n",
              "      a.click();\n",
              "      div.remove();\n",
              "    }\n",
              "  "
            ]
          },
          "metadata": {}
        },
        {
          "output_type": "display_data",
          "data": {
            "text/plain": [
              "<IPython.core.display.Javascript object>"
            ],
            "application/javascript": [
              "download(\"download_5ec4e369-a46c-4393-a9b7-3d3c9a7a7d65\", \"processed_c8436fbf44173388d980cd8c7d01556f.wav\", 885926)"
            ]
          },
          "metadata": {}
        }
      ]
    },
    {
      "cell_type": "markdown",
      "metadata": {
        "id": "367e8f8b"
      },
      "source": [
        "## Summary:\n",
        "\n",
        "### Data Analysis Key Findings\n",
        "\n",
        "*   The upload process was successfully modified to handle multiple file uploads, storing their paths in the `input_file_paths` list.\n",
        "*   The inference process was updated to sequentially process each file path in the `input_file_paths` list.\n",
        "*   A unique output file path was generated for each processed file using the pattern `processed_<original_filename_without_extension>.wav`.\n",
        "*   The `inference.py` script was executed for each input file using the generated input and output paths.\n",
        "*   The download process was modified to iterate through the `processed_output_paths` list, triggering an individual download for each processed file.\n",
        "\n",
        "### Insights or Next Steps\n",
        "\n",
        "*   The current solution processes files sequentially. For a large number of files, exploring parallel processing could significantly reduce the total processing time.\n",
        "*   Consider adding error handling to the inference step to manage potential issues with individual file processing without stopping the entire batch.\n"
      ]
    },
    {
      "cell_type": "markdown",
      "metadata": {
        "id": "3e7309bc"
      },
      "source": [
        "# Task\n",
        "Modify the notebook to allow uploading multiple audio files, process them sequentially, and download all processed files as a single zip archive."
      ]
    },
    {
      "cell_type": "markdown",
      "metadata": {
        "id": "10ccc0dd"
      },
      "source": [
        "## Modify upload cell\n",
        "\n",
        "### Subtask:\n",
        "Update the upload cell to handle multiple file uploads and store the file paths in a list.\n"
      ]
    },
    {
      "cell_type": "markdown",
      "metadata": {
        "id": "8c9e8ed3"
      },
      "source": [
        "## Zip processed files\n",
        "\n",
        "### Subtask:\n",
        "Add a step to compress all processed audio files into a single zip archive.\n"
      ]
    },
    {
      "cell_type": "markdown",
      "metadata": {
        "id": "da3e46ef"
      },
      "source": [
        "**Reasoning**:\n",
        "Compress all processed audio files into a single zip archive.\n",
        "\n"
      ]
    },
    {
      "cell_type": "code",
      "metadata": {
        "colab": {
          "base_uri": "https://localhost:8080/"
        },
        "id": "040b9c71",
        "outputId": "2a4c3fc6-a5e0-48aa-8147-32bdaa913ae6"
      },
      "source": [
        "import zipfile\n",
        "\n",
        "zip_file_name = \"processed_audio_files.zip\"\n",
        "\n",
        "with zipfile.ZipFile(zip_file_name, 'w') as zipf:\n",
        "    for file_path in processed_output_paths:\n",
        "        zipf.write(file_path, arcname=file_path.split('/')[-1])\n",
        "\n",
        "print(f\"All processed files compressed into {zip_file_name}\")"
      ],
      "execution_count": 11,
      "outputs": [
        {
          "output_type": "stream",
          "name": "stdout",
          "text": [
            "All processed files compressed into processed_audio_files.zip\n"
          ]
        }
      ]
    },
    {
      "cell_type": "markdown",
      "metadata": {
        "id": "fa20ccda"
      },
      "source": [
        "## Modify download cell\n",
        "\n",
        "### Subtask:\n",
        "Update the download cell to offer a way to download the generated zip file containing all processed audio files.\n"
      ]
    },
    {
      "cell_type": "markdown",
      "metadata": {
        "id": "87c906c3"
      },
      "source": [
        "**Reasoning**:\n",
        "Import the files object and download the zip file.\n",
        "\n"
      ]
    },
    {
      "cell_type": "code",
      "metadata": {
        "colab": {
          "base_uri": "https://localhost:8080/",
          "height": 17
        },
        "id": "48ab34f2",
        "outputId": "757d34a4-7740-4d55-dc62-162364b81db0"
      },
      "source": [
        "from google.colab import files\n",
        "files.download(zip_file_name)"
      ],
      "execution_count": 12,
      "outputs": [
        {
          "output_type": "display_data",
          "data": {
            "text/plain": [
              "<IPython.core.display.Javascript object>"
            ],
            "application/javascript": [
              "\n",
              "    async function download(id, filename, size) {\n",
              "      if (!google.colab.kernel.accessAllowed) {\n",
              "        return;\n",
              "      }\n",
              "      const div = document.createElement('div');\n",
              "      const label = document.createElement('label');\n",
              "      label.textContent = `Downloading \"${filename}\": `;\n",
              "      div.appendChild(label);\n",
              "      const progress = document.createElement('progress');\n",
              "      progress.max = size;\n",
              "      div.appendChild(progress);\n",
              "      document.body.appendChild(div);\n",
              "\n",
              "      const buffers = [];\n",
              "      let downloaded = 0;\n",
              "\n",
              "      const channel = await google.colab.kernel.comms.open(id);\n",
              "      // Send a message to notify the kernel that we're ready.\n",
              "      channel.send({})\n",
              "\n",
              "      for await (const message of channel.messages) {\n",
              "        // Send a message to notify the kernel that we're ready.\n",
              "        channel.send({})\n",
              "        if (message.buffers) {\n",
              "          for (const buffer of message.buffers) {\n",
              "            buffers.push(buffer);\n",
              "            downloaded += buffer.byteLength;\n",
              "            progress.value = downloaded;\n",
              "          }\n",
              "        }\n",
              "      }\n",
              "      const blob = new Blob(buffers, {type: 'application/binary'});\n",
              "      const a = document.createElement('a');\n",
              "      a.href = window.URL.createObjectURL(blob);\n",
              "      a.download = filename;\n",
              "      div.appendChild(a);\n",
              "      a.click();\n",
              "      div.remove();\n",
              "    }\n",
              "  "
            ]
          },
          "metadata": {}
        },
        {
          "output_type": "display_data",
          "data": {
            "text/plain": [
              "<IPython.core.display.Javascript object>"
            ],
            "application/javascript": [
              "download(\"download_7f7b8cb6-9067-4707-ac1f-2f0f3f140e21\", \"processed_audio_files.zip\", 12695978)"
            ]
          },
          "metadata": {}
        }
      ]
    },
    {
      "cell_type": "markdown",
      "metadata": {
        "id": "63d55b35"
      },
      "source": [
        "## Summary:\n",
        "\n",
        "### Data Analysis Key Findings\n",
        "\n",
        "*   The notebook was successfully modified to allow uploading multiple audio files at once using `files.upload()`.\n",
        "*   The paths of the uploaded files are stored in the `input_file_paths` list for sequential processing.\n",
        "*   All processed audio files are compressed into a single zip archive named \"processed\\_audio\\_files.zip\".\n",
        "*   The `arcname` argument in `zipf.write()` was used to ensure only the base filename is included in the zip archive.\n",
        "*   The generated zip file is made available for download using `files.download()`.\n",
        "\n",
        "### Insights or Next Steps\n",
        "\n",
        "*   The current setup processes files sequentially. For larger numbers of files, exploring parallel processing could significantly reduce the overall processing time.\n",
        "*   Error handling could be added to the processing step to gracefully handle cases where a specific file fails to process, allowing the processing of other files to continue.\n"
      ]
    }
  ],
  "metadata": {
    "accelerator": "GPU",
    "colab": {
      "gpuType": "T4",
      "provenance": []
    },
    "kernelspec": {
      "display_name": "Python 3",
      "name": "python3"
    },
    "language_info": {
      "name": "python"
    }
  },
  "nbformat": 4,
  "nbformat_minor": 0
}